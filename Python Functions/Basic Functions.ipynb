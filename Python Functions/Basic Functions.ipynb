{
 "cells": [
  {
   "cell_type": "code",
   "execution_count": 1,
   "id": "ede2210b-6c7b-479b-831c-1b1c48ee643e",
   "metadata": {},
   "outputs": [
    {
     "name": "stdout",
     "output_type": "stream",
     "text": [
      "this is my print function\n"
     ]
    }
   ],
   "source": [
    "print(\"this is my print function\")"
   ]
  },
  {
   "cell_type": "code",
   "execution_count": 2,
   "id": "9d6d35c3-1a03-4aa6-8691-69efd2090829",
   "metadata": {},
   "outputs": [],
   "source": [
    "l = [145, 758,79,28]"
   ]
  },
  {
   "cell_type": "code",
   "execution_count": 3,
   "id": "e9231205-95ae-4947-a77d-c55d303db60b",
   "metadata": {},
   "outputs": [
    {
     "data": {
      "text/plain": [
       "4"
      ]
     },
     "execution_count": 3,
     "metadata": {},
     "output_type": "execute_result"
    }
   ],
   "source": [
    "len(l)"
   ]
  },
  {
   "cell_type": "code",
   "execution_count": 4,
   "id": "df0d3e36-842e-49fa-8aa2-a0b5c1d8b336",
   "metadata": {},
   "outputs": [
    {
     "data": {
      "text/plain": [
       "list"
      ]
     },
     "execution_count": 4,
     "metadata": {},
     "output_type": "execute_result"
    }
   ],
   "source": [
    "type(l)"
   ]
  },
  {
   "cell_type": "code",
   "execution_count": 9,
   "id": "8f817cc0-b368-43e3-90b4-07f3786772a7",
   "metadata": {},
   "outputs": [],
   "source": [
    "def test():          # def is a function for definition\n",
    "    pass"
   ]
  },
  {
   "cell_type": "code",
   "execution_count": 10,
   "id": "01930194-63a1-4a40-80d1-ae25621e9d5c",
   "metadata": {},
   "outputs": [],
   "source": [
    "def test1():\n",
    "    print(\"this is my very very first function\")  # this print will not print the output we have to call the function"
   ]
  },
  {
   "cell_type": "code",
   "execution_count": 12,
   "id": "3ee99af2-4d17-471e-9390-2811bec001ae",
   "metadata": {},
   "outputs": [
    {
     "name": "stdout",
     "output_type": "stream",
     "text": [
      "this is my very very first function\n"
     ]
    }
   ],
   "source": [
    "test1()  # print always returns Nonetype Datatype"
   ]
  },
  {
   "cell_type": "code",
   "execution_count": 13,
   "id": "bfe71514-cd71-4274-8b4e-1ae64f5e94bd",
   "metadata": {},
   "outputs": [
    {
     "name": "stdout",
     "output_type": "stream",
     "text": [
      "this is my very very first function\n"
     ]
    },
    {
     "ename": "TypeError",
     "evalue": "unsupported operand type(s) for +: 'NoneType' and 'str'",
     "output_type": "error",
     "traceback": [
      "\u001b[0;31m---------------------------------------------------------------------------\u001b[0m",
      "\u001b[0;31mTypeError\u001b[0m                                 Traceback (most recent call last)",
      "Cell \u001b[0;32mIn[13], line 1\u001b[0m\n\u001b[0;32m----> 1\u001b[0m \u001b[43mtest1\u001b[49m\u001b[43m(\u001b[49m\u001b[43m)\u001b[49m\u001b[43m \u001b[49m\u001b[38;5;241;43m+\u001b[39;49m\u001b[43m \u001b[49m\u001b[38;5;124;43m'\u001b[39;49m\u001b[38;5;124;43msweety\u001b[39;49m\u001b[38;5;124;43m'\u001b[39;49m\n",
      "\u001b[0;31mTypeError\u001b[0m: unsupported operand type(s) for +: 'NoneType' and 'str'"
     ]
    }
   ],
   "source": [
    "test1() + 'sweety'"
   ]
  },
  {
   "cell_type": "code",
   "execution_count": 14,
   "id": "290e5abb-4f8e-4b23-9e9d-99355e7818ef",
   "metadata": {},
   "outputs": [],
   "source": [
    "def test2():\n",
    "    return \"this is my very fist return\""
   ]
  },
  {
   "cell_type": "code",
   "execution_count": 16,
   "id": "71149b8d-e74e-4c52-8002-2774a617f7ec",
   "metadata": {},
   "outputs": [
    {
     "data": {
      "text/plain": [
       "'this is my very fist return'"
      ]
     },
     "execution_count": 16,
     "metadata": {},
     "output_type": "execute_result"
    }
   ],
   "source": [
    "test2()  # return will give as it ts datatype"
   ]
  },
  {
   "cell_type": "code",
   "execution_count": 17,
   "id": "16632075-43c3-4319-a04b-33e3cc5ae52c",
   "metadata": {},
   "outputs": [
    {
     "data": {
      "text/plain": [
       "'this is my very fist returnsweety'"
      ]
     },
     "execution_count": 17,
     "metadata": {},
     "output_type": "execute_result"
    }
   ],
   "source": [
    "test2() + 'sweety'"
   ]
  },
  {
   "cell_type": "code",
   "execution_count": 19,
   "id": "dde96681-4244-4050-84bc-ef45482c1323",
   "metadata": {},
   "outputs": [
    {
     "data": {
      "text/plain": [
       "'this is my very fist return sweety'"
      ]
     },
     "execution_count": 19,
     "metadata": {},
     "output_type": "execute_result"
    }
   ],
   "source": [
    "test2() + ' sweety'"
   ]
  },
  {
   "cell_type": "code",
   "execution_count": 22,
   "id": "724e301f-0ad9-4808-a6f7-652cb7b548ae",
   "metadata": {},
   "outputs": [
    {
     "data": {
      "text/plain": [
       "'this is my very fist returnsweety'"
      ]
     },
     "execution_count": 22,
     "metadata": {},
     "output_type": "execute_result"
    }
   ],
   "source": [
    "test2() +  \"sweety\""
   ]
  },
  {
   "cell_type": "code",
   "execution_count": 23,
   "id": "430b092a-adc3-43f7-b72e-f2e578b24129",
   "metadata": {},
   "outputs": [],
   "source": [
    "def test3():\n",
    "    return \"rk\", 22, 39.5, [2,4,10,12]"
   ]
  },
  {
   "cell_type": "code",
   "execution_count": 24,
   "id": "9fd4c0c2-ce2d-437b-ab3a-640bd468f2a3",
   "metadata": {},
   "outputs": [
    {
     "data": {
      "text/plain": [
       "('rk', 22, 39.5, [2, 4, 10, 12])"
      ]
     },
     "execution_count": 24,
     "metadata": {},
     "output_type": "execute_result"
    }
   ],
   "source": [
    "test3()"
   ]
  },
  {
   "cell_type": "code",
   "execution_count": 25,
   "id": "f6199f86-20e4-444e-b9c3-d498d9344ddd",
   "metadata": {},
   "outputs": [],
   "source": [
    "a, b, c, d = test3()"
   ]
  },
  {
   "cell_type": "code",
   "execution_count": 26,
   "id": "c715d975-cbe6-49da-83e5-d866ebc0a844",
   "metadata": {},
   "outputs": [
    {
     "data": {
      "text/plain": [
       "'rk'"
      ]
     },
     "execution_count": 26,
     "metadata": {},
     "output_type": "execute_result"
    }
   ],
   "source": [
    "a"
   ]
  },
  {
   "cell_type": "code",
   "execution_count": 27,
   "id": "fe5ec899-1458-4371-b099-ae5c8a4378c3",
   "metadata": {},
   "outputs": [
    {
     "data": {
      "text/plain": [
       "22"
      ]
     },
     "execution_count": 27,
     "metadata": {},
     "output_type": "execute_result"
    }
   ],
   "source": [
    "b"
   ]
  },
  {
   "cell_type": "code",
   "execution_count": 28,
   "id": "13ba98cd-7a39-45a1-85bc-105b1807473c",
   "metadata": {},
   "outputs": [
    {
     "data": {
      "text/plain": [
       "39.5"
      ]
     },
     "execution_count": 28,
     "metadata": {},
     "output_type": "execute_result"
    }
   ],
   "source": [
    "c"
   ]
  },
  {
   "cell_type": "code",
   "execution_count": 29,
   "id": "e1012359-728e-4986-a810-52e4831d3a71",
   "metadata": {},
   "outputs": [
    {
     "data": {
      "text/plain": [
       "[2, 4, 10, 12]"
      ]
     },
     "execution_count": 29,
     "metadata": {},
     "output_type": "execute_result"
    }
   ],
   "source": [
    "d"
   ]
  },
  {
   "cell_type": "code",
   "execution_count": 31,
   "id": "e1a1601b-28be-47c0-8ae6-7e4dbd2cc6b5",
   "metadata": {},
   "outputs": [],
   "source": [
    "def test4():\n",
    "    a = 5+6/7\n",
    "    return a"
   ]
  },
  {
   "cell_type": "code",
   "execution_count": 32,
   "id": "f454abdc-7ae0-4444-8c0c-09a69387e494",
   "metadata": {},
   "outputs": [
    {
     "data": {
      "text/plain": [
       "5.857142857142857"
      ]
     },
     "execution_count": 32,
     "metadata": {},
     "output_type": "execute_result"
    }
   ],
   "source": [
    "test4()"
   ]
  },
  {
   "cell_type": "code",
   "execution_count": 33,
   "id": "a1ede64c-3130-432e-9e2d-84bbeeaf33a5",
   "metadata": {},
   "outputs": [],
   "source": [
    "def test5(a, b, c):\n",
    "    d = a+b/c\n",
    "    return d"
   ]
  },
  {
   "cell_type": "code",
   "execution_count": 34,
   "id": "e48b7883-6163-4d3e-9663-c0fd28770eb9",
   "metadata": {},
   "outputs": [
    {
     "ename": "TypeError",
     "evalue": "test5() missing 3 required positional arguments: 'a', 'b', and 'c'",
     "output_type": "error",
     "traceback": [
      "\u001b[0;31m---------------------------------------------------------------------------\u001b[0m",
      "\u001b[0;31mTypeError\u001b[0m                                 Traceback (most recent call last)",
      "Cell \u001b[0;32mIn[34], line 1\u001b[0m\n\u001b[0;32m----> 1\u001b[0m \u001b[43mtest5\u001b[49m\u001b[43m(\u001b[49m\u001b[43m)\u001b[49m\n",
      "\u001b[0;31mTypeError\u001b[0m: test5() missing 3 required positional arguments: 'a', 'b', and 'c'"
     ]
    }
   ],
   "source": [
    "test5()"
   ]
  },
  {
   "cell_type": "code",
   "execution_count": 35,
   "id": "49706708-f157-4c11-adeb-78640c7d696d",
   "metadata": {},
   "outputs": [
    {
     "data": {
      "text/plain": [
       "2.6666666666666665"
      ]
     },
     "execution_count": 35,
     "metadata": {},
     "output_type": "execute_result"
    }
   ],
   "source": [
    "test5(2,4,6)"
   ]
  },
  {
   "cell_type": "code",
   "execution_count": 36,
   "id": "f37cf811-8724-4a7f-8c12-6e1902a4b38b",
   "metadata": {},
   "outputs": [],
   "source": [
    "def test6(a,b):\n",
    "    return a + b"
   ]
  },
  {
   "cell_type": "code",
   "execution_count": 40,
   "id": "63c35d11-6831-4808-830d-d857bb457caa",
   "metadata": {},
   "outputs": [
    {
     "data": {
      "text/plain": [
       "16"
      ]
     },
     "execution_count": 40,
     "metadata": {},
     "output_type": "execute_result"
    }
   ],
   "source": [
    "test6(4,12)"
   ]
  },
  {
   "cell_type": "code",
   "execution_count": 42,
   "id": "eb127c3b-abd3-4ea8-94a0-63c78d24e704",
   "metadata": {},
   "outputs": [
    {
     "data": {
      "text/plain": [
       "'sweety sahili'"
      ]
     },
     "execution_count": 42,
     "metadata": {},
     "output_type": "execute_result"
    }
   ],
   "source": [
    "test6(\"sweety\" , \" sahili\")"
   ]
  },
  {
   "cell_type": "code",
   "execution_count": 45,
   "id": "fe5f13ac-fd60-4c38-b894-f239e2d2bc80",
   "metadata": {},
   "outputs": [
    {
     "data": {
      "text/plain": [
       "[4, 10, 2000, 2, 12, 2003]"
      ]
     },
     "execution_count": 45,
     "metadata": {},
     "output_type": "execute_result"
    }
   ],
   "source": [
    "test6([4,10,2000], [2,12,2003] )"
   ]
  },
  {
   "cell_type": "code",
   "execution_count": 63,
   "id": "00ac9d94-c49d-4360-afd9-b24747bdb59f",
   "metadata": {},
   "outputs": [],
   "source": [
    "l = [1,2,3,4, \"sweety\", \"sahili\", [2,4,12,10]]"
   ]
  },
  {
   "cell_type": "code",
   "execution_count": 64,
   "id": "8fa3ad12-589b-4e19-84f8-5a603441beb2",
   "metadata": {},
   "outputs": [],
   "source": [
    "l1 = []\n",
    "for i in l:\n",
    "    if type(i) == int or type(i) == float :\n",
    "        l1.append(i)\n",
    "    "
   ]
  },
  {
   "cell_type": "code",
   "execution_count": 65,
   "id": "92db8468-c1d9-4fe0-8a49-f5f3eb754156",
   "metadata": {},
   "outputs": [
    {
     "data": {
      "text/plain": [
       "[1, 2, 3, 4]"
      ]
     },
     "execution_count": 65,
     "metadata": {},
     "output_type": "execute_result"
    }
   ],
   "source": [
    "l1"
   ]
  },
  {
   "cell_type": "code",
   "execution_count": 66,
   "id": "431466f3-02c6-45f4-b310-43b9011a0ba5",
   "metadata": {},
   "outputs": [],
   "source": [
    "def test7(l):\n",
    "    l1 = []\n",
    "    for i in l:\n",
    "        if type(i) == int or type(i) == float :\n",
    "            l1.append(i)\n",
    "            return l1"
   ]
  },
  {
   "cell_type": "code",
   "execution_count": 67,
   "id": "f1f596b3-7c68-46ab-8f8a-3c0b7bc38466",
   "metadata": {},
   "outputs": [
    {
     "data": {
      "text/plain": [
       "[1, 2, 3, 4]"
      ]
     },
     "execution_count": 67,
     "metadata": {},
     "output_type": "execute_result"
    }
   ],
   "source": [
    "l1"
   ]
  },
  {
   "cell_type": "code",
   "execution_count": 73,
   "id": "723216a2-a0d4-465c-904d-b72712d1ee49",
   "metadata": {},
   "outputs": [],
   "source": [
    "def test8(a):\n",
    "    l = []\n",
    "    for i in a :\n",
    "        if type(i) == list :\n",
    "            for j in i :\n",
    "                l.append(j)\n",
    "        else :\n",
    "            if type(i) == int or type(i) == float:\n",
    "                l.append(i)\n",
    "    return l"
   ]
  },
  {
   "cell_type": "code",
   "execution_count": 74,
   "id": "55dcb240-c405-4688-85fa-df7271cd0485",
   "metadata": {},
   "outputs": [
    {
     "data": {
      "text/plain": [
       "[1, 2, 3, 4, 2, 4, 12, 10]"
      ]
     },
     "execution_count": 74,
     "metadata": {},
     "output_type": "execute_result"
    }
   ],
   "source": [
    "test8(l)"
   ]
  },
  {
   "cell_type": "code",
   "execution_count": 76,
   "id": "d753e28c-cd4f-406c-833b-d5c717b1bcd0",
   "metadata": {},
   "outputs": [],
   "source": [
    "def test9(a):\n",
    "    \"\"\"this is my function to extract num data from list\"\"\"\n",
    "    l = []\n",
    "    for i in a :\n",
    "        if type(i) == list :\n",
    "            for j in i :\n",
    "                l.append(j)\n",
    "        else :\n",
    "            if type(i) == int or type(i) == float:\n",
    "                l.append(i)\n",
    "    return l"
   ]
  },
  {
   "cell_type": "code",
   "execution_count": 77,
   "id": "dced3c52-f1f8-4b33-9f4e-be495b2321d2",
   "metadata": {},
   "outputs": [
    {
     "ename": "TypeError",
     "evalue": "test9() missing 1 required positional argument: 'a'",
     "output_type": "error",
     "traceback": [
      "\u001b[0;31m---------------------------------------------------------------------------\u001b[0m",
      "\u001b[0;31mTypeError\u001b[0m                                 Traceback (most recent call last)",
      "Cell \u001b[0;32mIn[77], line 1\u001b[0m\n\u001b[0;32m----> 1\u001b[0m \u001b[43mtest9\u001b[49m\u001b[43m(\u001b[49m\u001b[43m)\u001b[49m\n",
      "\u001b[0;31mTypeError\u001b[0m: test9() missing 1 required positional argument: 'a'"
     ]
    }
   ],
   "source": [
    "test9()"
   ]
  },
  {
   "cell_type": "code",
   "execution_count": 78,
   "id": "fa9b4c5f-f038-442a-968a-991075b1430c",
   "metadata": {},
   "outputs": [],
   "source": [
    "def test10(a,b):\n",
    "    return a+b"
   ]
  },
  {
   "cell_type": "code",
   "execution_count": 79,
   "id": "6d76e7bf-2e4f-45e3-835a-252f4ba48bb7",
   "metadata": {},
   "outputs": [],
   "source": [
    "def test11(*args) :      # staric(*) is used to return n no of arguments\n",
    "    return args"
   ]
  },
  {
   "cell_type": "code",
   "execution_count": 81,
   "id": "10418f08-06c5-47ee-9615-9660d5283363",
   "metadata": {},
   "outputs": [
    {
     "data": {
      "text/plain": [
       "(1.2, 5.3, 45)"
      ]
     },
     "execution_count": 81,
     "metadata": {},
     "output_type": "execute_result"
    }
   ],
   "source": [
    "test11(1.2, 5.3,45)"
   ]
  },
  {
   "cell_type": "code",
   "execution_count": 82,
   "id": "5da4b9e9-e948-4793-a425-7ef06b3189c5",
   "metadata": {},
   "outputs": [
    {
     "data": {
      "text/plain": [
       "(2, 4, 'rk', 'sweety', 10, 12)"
      ]
     },
     "execution_count": 82,
     "metadata": {},
     "output_type": "execute_result"
    }
   ],
   "source": [
    "test11(2,4,\"rk\", \"sweety\", 10,12)"
   ]
  },
  {
   "cell_type": "code",
   "execution_count": 83,
   "id": "24f8e371-cde4-433d-aeae-697ea7ccc680",
   "metadata": {},
   "outputs": [],
   "source": [
    "def test12(*rk) :   # instead of args we can write anything\n",
    "    return rk\n"
   ]
  },
  {
   "cell_type": "code",
   "execution_count": 95,
   "id": "1bd68c4f-603c-417f-a6c3-c82e2ffce728",
   "metadata": {},
   "outputs": [
    {
     "data": {
      "text/plain": [
       "()"
      ]
     },
     "execution_count": 95,
     "metadata": {},
     "output_type": "execute_result"
    }
   ],
   "source": [
    "test12()"
   ]
  },
  {
   "cell_type": "code",
   "execution_count": 96,
   "id": "3e08717d-942e-42be-9462-a30212cd8654",
   "metadata": {},
   "outputs": [
    {
     "data": {
      "text/plain": [
       "tuple"
      ]
     },
     "execution_count": 96,
     "metadata": {},
     "output_type": "execute_result"
    }
   ],
   "source": [
    "type(test12())"
   ]
  },
  {
   "cell_type": "code",
   "execution_count": 85,
   "id": "0f8bc629-80c7-4e11-9d5c-4a11fb978b83",
   "metadata": {},
   "outputs": [
    {
     "data": {
      "text/plain": [
       "(86, 56, 27.2, 'good', [24, 99, 9])"
      ]
     },
     "execution_count": 85,
     "metadata": {},
     "output_type": "execute_result"
    }
   ],
   "source": [
    "test12(86,56,27.2,'good', [24,99,9])  # staric(*) returns all the values in the form of tuple"
   ]
  },
  {
   "cell_type": "code",
   "execution_count": 86,
   "id": "b40b225b-5a3d-425e-866f-dc483c22db7e",
   "metadata": {},
   "outputs": [],
   "source": [
    "def test13(*args , a) :\n",
    "    return args , a"
   ]
  },
  {
   "cell_type": "code",
   "execution_count": 87,
   "id": "f9e4c889-08f9-4258-8366-035d90193b68",
   "metadata": {},
   "outputs": [
    {
     "ename": "TypeError",
     "evalue": "test13() missing 1 required keyword-only argument: 'a'",
     "output_type": "error",
     "traceback": [
      "\u001b[0;31m---------------------------------------------------------------------------\u001b[0m",
      "\u001b[0;31mTypeError\u001b[0m                                 Traceback (most recent call last)",
      "Cell \u001b[0;32mIn[87], line 1\u001b[0m\n\u001b[0;32m----> 1\u001b[0m \u001b[43mtest13\u001b[49m\u001b[43m(\u001b[49m\u001b[38;5;241;43m65\u001b[39;49m\u001b[43m,\u001b[49m\u001b[38;5;241;43m39\u001b[39;49m\u001b[43m,\u001b[49m\u001b[38;5;241;43m12\u001b[39;49m\u001b[43m,\u001b[49m\u001b[38;5;241;43m95\u001b[39;49m\u001b[43m,\u001b[49m\u001b[38;5;241;43m6\u001b[39;49m\u001b[43m)\u001b[49m\n",
      "\u001b[0;31mTypeError\u001b[0m: test13() missing 1 required keyword-only argument: 'a'"
     ]
    }
   ],
   "source": [
    "test13(65,39,12,95,6)  # its not able to understand which one is the value of a"
   ]
  },
  {
   "cell_type": "code",
   "execution_count": 88,
   "id": "cafa1679-74b1-4c08-a885-632bf45d2e29",
   "metadata": {},
   "outputs": [
    {
     "data": {
      "text/plain": [
       "((65, 39, 12, 95), 6)"
      ]
     },
     "execution_count": 88,
     "metadata": {},
     "output_type": "execute_result"
    }
   ],
   "source": [
    "test13(65,39,12,95, a = 6)"
   ]
  },
  {
   "cell_type": "code",
   "execution_count": 89,
   "id": "a54c0cba-2f26-4884-b01a-56c8d2506e80",
   "metadata": {},
   "outputs": [],
   "source": [
    "def test14(c,d,a = 23 , b = 1 ):\n",
    "    return a,b,c,d"
   ]
  },
  {
   "cell_type": "code",
   "execution_count": 92,
   "id": "a77daf99-149a-4890-88ea-2fedd51937a6",
   "metadata": {},
   "outputs": [
    {
     "ename": "TypeError",
     "evalue": "test14() missing 2 required positional arguments: 'c' and 'd'",
     "output_type": "error",
     "traceback": [
      "\u001b[0;31m---------------------------------------------------------------------------\u001b[0m",
      "\u001b[0;31mTypeError\u001b[0m                                 Traceback (most recent call last)",
      "Cell \u001b[0;32mIn[92], line 1\u001b[0m\n\u001b[0;32m----> 1\u001b[0m \u001b[43mtest14\u001b[49m\u001b[43m(\u001b[49m\u001b[43m)\u001b[49m\n",
      "\u001b[0;31mTypeError\u001b[0m: test14() missing 2 required positional arguments: 'c' and 'd'"
     ]
    }
   ],
   "source": [
    "test14()"
   ]
  },
  {
   "cell_type": "code",
   "execution_count": 90,
   "id": "0f17beaf-efff-468b-b6cf-637f3252080d",
   "metadata": {},
   "outputs": [
    {
     "data": {
      "text/plain": [
       "(23, 1, 6, 4)"
      ]
     },
     "execution_count": 90,
     "metadata": {},
     "output_type": "execute_result"
    }
   ],
   "source": [
    "test14(6,4)"
   ]
  },
  {
   "cell_type": "code",
   "execution_count": 91,
   "id": "439d6bf9-f55f-4071-98ed-a565f155066e",
   "metadata": {},
   "outputs": [
    {
     "data": {
      "text/plain": [
       "(45, 1, 6, 4)"
      ]
     },
     "execution_count": 91,
     "metadata": {},
     "output_type": "execute_result"
    }
   ],
   "source": [
    "test14(6,4, a = 45)"
   ]
  },
  {
   "cell_type": "code",
   "execution_count": 93,
   "id": "4880bdbd-a829-44a2-9969-dc836e557e2b",
   "metadata": {},
   "outputs": [],
   "source": [
    "def test15(**kwargs) :\n",
    "    return kwargs"
   ]
  },
  {
   "cell_type": "code",
   "execution_count": 94,
   "id": "57660daa-0791-454a-8315-424a41d790ef",
   "metadata": {},
   "outputs": [
    {
     "data": {
      "text/plain": [
       "{}"
      ]
     },
     "execution_count": 94,
     "metadata": {},
     "output_type": "execute_result"
    }
   ],
   "source": [
    "test15()"
   ]
  },
  {
   "cell_type": "code",
   "execution_count": 97,
   "id": "6f58789f-94d0-467b-95c3-505017a5f548",
   "metadata": {},
   "outputs": [
    {
     "data": {
      "text/plain": [
       "dict"
      ]
     },
     "execution_count": 97,
     "metadata": {},
     "output_type": "execute_result"
    }
   ],
   "source": [
    "type(test15())"
   ]
  },
  {
   "cell_type": "code",
   "execution_count": 98,
   "id": "95f9b4a2-1d9d-4f47-bfc1-a22af3b30152",
   "metadata": {},
   "outputs": [
    {
     "data": {
      "text/plain": [
       "{'a': [1, 5, 4, 8], 'b': 'sweety', 'c': 39.5}"
      ]
     },
     "execution_count": 98,
     "metadata": {},
     "output_type": "execute_result"
    }
   ],
   "source": [
    "test15(a = [1,5,4,8], b = \"sweety\", c = 39.5)"
   ]
  },
  {
   "cell_type": "code",
   "execution_count": null,
   "id": "796dadb9-a18a-4a86-84ea-e2223a736ff0",
   "metadata": {},
   "outputs": [],
   "source": []
  }
 ],
 "metadata": {
  "kernelspec": {
   "display_name": "Python 3 (ipykernel)",
   "language": "python",
   "name": "python3"
  },
  "language_info": {
   "codemirror_mode": {
    "name": "ipython",
    "version": 3
   },
   "file_extension": ".py",
   "mimetype": "text/x-python",
   "name": "python",
   "nbconvert_exporter": "python",
   "pygments_lexer": "ipython3",
   "version": "3.10.8"
  }
 },
 "nbformat": 4,
 "nbformat_minor": 5
}
