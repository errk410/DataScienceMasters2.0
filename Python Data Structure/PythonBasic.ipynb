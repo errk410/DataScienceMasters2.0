{
 "cells": [
  {
   "cell_type": "code",
   "execution_count": 1,
   "id": "672af7c9-129a-40fd-b420-c9f80b042a1f",
   "metadata": {},
   "outputs": [],
   "source": [
    "s = \"sweety\""
   ]
  },
  {
   "cell_type": "code",
   "execution_count": 2,
   "id": "ba2f9df0-23d5-490c-b180-a1608a2d3447",
   "metadata": {},
   "outputs": [
    {
     "data": {
      "text/plain": [
       "'y'"
      ]
     },
     "execution_count": 2,
     "metadata": {},
     "output_type": "execute_result"
    }
   ],
   "source": [
    "s[-1]"
   ]
  },
  {
   "cell_type": "code",
   "execution_count": 10,
   "id": "5adeb44c-e816-48d0-b526-d105f5509db8",
   "metadata": {},
   "outputs": [
    {
     "data": {
      "text/plain": [
       "'swe'"
      ]
     },
     "execution_count": 10,
     "metadata": {},
     "output_type": "execute_result"
    }
   ],
   "source": [
    "s[:3]   # Slicing =>  it will give the data before higher index (upperBound - 1)"
   ]
  },
  {
   "cell_type": "code",
   "execution_count": 11,
   "id": "6990d54f-52fa-4507-86cb-78cd8b72f041",
   "metadata": {},
   "outputs": [
    {
     "data": {
      "text/plain": [
       "'swe'"
      ]
     },
     "execution_count": 11,
     "metadata": {},
     "output_type": "execute_result"
    }
   ],
   "source": [
    "s[0:3:1]"
   ]
  },
  {
   "cell_type": "code",
   "execution_count": 12,
   "id": "7141280e-5425-4703-9afb-1843d98e490c",
   "metadata": {},
   "outputs": [
    {
     "data": {
      "text/plain": [
       "''"
      ]
     },
     "execution_count": 12,
     "metadata": {},
     "output_type": "execute_result"
    }
   ],
   "source": [
    "s[-1:-8]"
   ]
  },
  {
   "cell_type": "code",
   "execution_count": 13,
   "id": "5a46f522-4fe9-4ac2-b437-246e3bd08985",
   "metadata": {},
   "outputs": [
    {
     "data": {
      "text/plain": [
       "'set'"
      ]
     },
     "execution_count": 13,
     "metadata": {},
     "output_type": "execute_result"
    }
   ],
   "source": [
    "s[0:8:2]    # 2 is (slice step) jump here,  in normal case jump is 1 by default ex. s[0:4:1] = s[0:4]"
   ]
  },
  {
   "cell_type": "code",
   "execution_count": 14,
   "id": "dfc23663-e463-48a5-8a36-bada9e98750d",
   "metadata": {},
   "outputs": [
    {
     "data": {
      "text/plain": [
       "'set'"
      ]
     },
     "execution_count": 14,
     "metadata": {},
     "output_type": "execute_result"
    }
   ],
   "source": [
    "s[::2]"
   ]
  },
  {
   "cell_type": "code",
   "execution_count": 15,
   "id": "2de4bd3e-6aac-45d1-a18f-d6b82849720a",
   "metadata": {},
   "outputs": [
    {
     "data": {
      "text/plain": [
       "'sweety'"
      ]
     },
     "execution_count": 15,
     "metadata": {},
     "output_type": "execute_result"
    }
   ],
   "source": [
    "s[::]"
   ]
  },
  {
   "cell_type": "code",
   "execution_count": 16,
   "id": "45a6b676-60b6-440b-90e0-a53949dfcebc",
   "metadata": {},
   "outputs": [
    {
     "ename": "ValueError",
     "evalue": "slice step cannot be zero",
     "output_type": "error",
     "traceback": [
      "\u001b[0;31m---------------------------------------------------------------------------\u001b[0m",
      "\u001b[0;31mValueError\u001b[0m                                Traceback (most recent call last)",
      "Cell \u001b[0;32mIn[16], line 1\u001b[0m\n\u001b[0;32m----> 1\u001b[0m \u001b[43ms\u001b[49m\u001b[43m[\u001b[49m\u001b[38;5;241;43m2\u001b[39;49m\u001b[43m:\u001b[49m\u001b[43m:\u001b[49m\u001b[38;5;241;43m0\u001b[39;49m\u001b[43m]\u001b[49m\n",
      "\u001b[0;31mValueError\u001b[0m: slice step cannot be zero"
     ]
    }
   ],
   "source": [
    "s[2::0]"
   ]
  },
  {
   "cell_type": "code",
   "execution_count": 17,
   "id": "fee29544-4fa8-4b3c-8efd-a9c393c1bb27",
   "metadata": {},
   "outputs": [
    {
     "data": {
      "text/plain": [
       "'yteews'"
      ]
     },
     "execution_count": 17,
     "metadata": {},
     "output_type": "execute_result"
    }
   ],
   "source": [
    "s[::-1]              # print in reverse direction"
   ]
  },
  {
   "cell_type": "code",
   "execution_count": 19,
   "id": "7cb11eba-f35e-4fc4-9457-44062a5d450c",
   "metadata": {},
   "outputs": [
    {
     "data": {
      "text/plain": [
       "''"
      ]
     },
     "execution_count": 19,
     "metadata": {},
     "output_type": "execute_result"
    }
   ],
   "source": [
    "s[2:7:-1]   # going towards +ve axis but trying to jump towards -ve, so there will be conflict"
   ]
  },
  {
   "cell_type": "code",
   "execution_count": 25,
   "id": "a8fc6816-ae9d-4637-834c-188276b0e6da",
   "metadata": {},
   "outputs": [
    {
     "data": {
      "text/plain": [
       "''"
      ]
     },
     "execution_count": 25,
     "metadata": {},
     "output_type": "execute_result"
    }
   ],
   "source": [
    "s[6:0]  # by default jump is +1"
   ]
  },
  {
   "cell_type": "code",
   "execution_count": 22,
   "id": "09b2446c-0241-4947-bf9b-26cb2f4f24ea",
   "metadata": {},
   "outputs": [
    {
     "data": {
      "text/plain": [
       "'yteew'"
      ]
     },
     "execution_count": 22,
     "metadata": {},
     "output_type": "execute_result"
    }
   ],
   "source": [
    "s[6:0:-1]"
   ]
  },
  {
   "cell_type": "code",
   "execution_count": 24,
   "id": "72de7171-2a5a-4db9-9e70-7dd83253f29e",
   "metadata": {},
   "outputs": [
    {
     "data": {
      "text/plain": [
       "'yteews'"
      ]
     },
     "execution_count": 24,
     "metadata": {},
     "output_type": "execute_result"
    }
   ],
   "source": [
    "s[6::-1]"
   ]
  },
  {
   "cell_type": "code",
   "execution_count": 26,
   "id": "05b603f3-50be-492d-8201-053af3e377af",
   "metadata": {},
   "outputs": [
    {
     "data": {
      "text/plain": [
       "'sweet'"
      ]
     },
     "execution_count": 26,
     "metadata": {},
     "output_type": "execute_result"
    }
   ],
   "source": [
    "s[-6:-1:1]"
   ]
  },
  {
   "cell_type": "code",
   "execution_count": 27,
   "id": "bc7d8566-dc98-4a84-b427-28b1839c08e8",
   "metadata": {},
   "outputs": [
    {
     "data": {
      "text/plain": [
       "''"
      ]
     },
     "execution_count": 27,
     "metadata": {},
     "output_type": "execute_result"
    }
   ],
   "source": [
    "s[-6:-1:-1]"
   ]
  },
  {
   "cell_type": "code",
   "execution_count": 28,
   "id": "2f04fb62-3647-4009-83f9-a44c781195a4",
   "metadata": {},
   "outputs": [
    {
     "data": {
      "text/plain": [
       "'sweety'"
      ]
     },
     "execution_count": 28,
     "metadata": {},
     "output_type": "execute_result"
    }
   ],
   "source": [
    "s[-6::1]"
   ]
  },
  {
   "cell_type": "code",
   "execution_count": null,
   "id": "e91e59da-2a31-4654-b899-3fbb7a3cdf41",
   "metadata": {},
   "outputs": [],
   "source": []
  }
 ],
 "metadata": {
  "kernelspec": {
   "display_name": "Python 3 (ipykernel)",
   "language": "python",
   "name": "python3"
  },
  "language_info": {
   "codemirror_mode": {
    "name": "ipython",
    "version": 3
   },
   "file_extension": ".py",
   "mimetype": "text/x-python",
   "name": "python",
   "nbconvert_exporter": "python",
   "pygments_lexer": "ipython3",
   "version": "3.10.8"
  }
 },
 "nbformat": 4,
 "nbformat_minor": 5
}
