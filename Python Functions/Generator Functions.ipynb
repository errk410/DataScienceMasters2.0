{
 "cells": [
  {
   "cell_type": "markdown",
   "id": "f7368118-6d12-45b1-bc2b-bb3bd6df9b5f",
   "metadata": {},
   "source": [
    "Generator Function : a generator function is a type of function that allows you to iterate over a potentially large sequence of items without having to create the entire sequence in memory at once. \n",
    "Instead of returning a single value, a generator function yields a series of values one at a time as you iterate over them.\n",
    "Used to reduce/optimize memory . it keeps generating output."
   ]
  },
  {
   "cell_type": "code",
   "execution_count": null,
   "id": "d259688f-ad38-4694-a6e9-d723f92ba3dd",
   "metadata": {},
   "outputs": [],
   "source": [
    "range(10)"
   ]
  },
  {
   "cell_type": "code",
   "execution_count": null,
   "id": "a0ab5fd8-d603-49c4-834f-e6020df0d913",
   "metadata": {},
   "outputs": [],
   "source": []
  },
  {
   "cell_type": "code",
   "execution_count": null,
   "id": "18f329a9-8cae-460e-8f28-a281016e1675",
   "metadata": {},
   "outputs": [],
   "source": []
  },
  {
   "cell_type": "code",
   "execution_count": null,
   "id": "a181f375-013f-4c3a-98ef-2b562026c718",
   "metadata": {},
   "outputs": [],
   "source": []
  }
 ],
 "metadata": {
  "kernelspec": {
   "display_name": "Python 3 (ipykernel)",
   "language": "python",
   "name": "python3"
  },
  "language_info": {
   "codemirror_mode": {
    "name": "ipython",
    "version": 3
   },
   "file_extension": ".py",
   "mimetype": "text/x-python",
   "name": "python",
   "nbconvert_exporter": "python",
   "pygments_lexer": "ipython3",
   "version": "3.10.8"
  }
 },
 "nbformat": 4,
 "nbformat_minor": 5
}
