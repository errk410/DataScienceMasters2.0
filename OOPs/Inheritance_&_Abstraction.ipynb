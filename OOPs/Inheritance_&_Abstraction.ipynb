{
  "nbformat": 4,
  "nbformat_minor": 0,
  "metadata": {
    "colab": {
      "provenance": []
    },
    "kernelspec": {
      "name": "python3",
      "display_name": "Python 3"
    },
    "language_info": {
      "name": "python"
    }
  },
  "cells": [
    {
      "cell_type": "code",
      "execution_count": null,
      "metadata": {
        "id": "0Z5JDcb1T3yZ"
      },
      "outputs": [],
      "source": [
        "class parent :\n",
        "  def test_parent(self):\n",
        "    print(\"this is my parent class\")"
      ]
    },
    {
      "cell_type": "code",
      "source": [
        "class child(parent):\n",
        "  pass\n"
      ],
      "metadata": {
        "id": "sXmRK7HYVAWr"
      },
      "execution_count": null,
      "outputs": []
    },
    {
      "cell_type": "code",
      "source": [
        "child_obj = child()"
      ],
      "metadata": {
        "id": "a2YdAhGHVGjG"
      },
      "execution_count": null,
      "outputs": []
    },
    {
      "cell_type": "code",
      "source": [
        "child_obj.test_parent()"
      ],
      "metadata": {
        "colab": {
          "base_uri": "https://localhost:8080/"
        },
        "id": "btuKqk0XVJxA",
        "outputId": "cd73b9cc-7aaa-4f63-9798-11ea8cc77683"
      },
      "execution_count": null,
      "outputs": [
        {
          "output_type": "stream",
          "name": "stdout",
          "text": [
            "this is my parent class\n"
          ]
        }
      ]
    },
    {
      "cell_type": "markdown",
      "source": [
        "**Single level Inheritance**"
      ],
      "metadata": {
        "id": "_05cJ8T5XHJH"
      }
    },
    {
      "cell_type": "code",
      "source": [
        "class class1 :\n",
        "  def test_class1(self):\n",
        "    print(\"this ismy class1\")"
      ],
      "metadata": {
        "id": "9-0qiTTYVN4f"
      },
      "execution_count": null,
      "outputs": []
    },
    {
      "cell_type": "code",
      "source": [
        "class class2(class1):\n",
        "  def test_class2(self):\n",
        "    print(\"this is my class2\")"
      ],
      "metadata": {
        "id": "K4JoxrhUVeqJ"
      },
      "execution_count": null,
      "outputs": []
    },
    {
      "cell_type": "code",
      "source": [
        "class class3(class2):\n",
        "  def test_class3(self):\n",
        "\n",
        "    print(\"this is my class3\")\n"
      ],
      "metadata": {
        "id": "a6Nzbu7fVoft"
      },
      "execution_count": null,
      "outputs": []
    },
    {
      "cell_type": "code",
      "source": [
        "class3_obj = class3()"
      ],
      "metadata": {
        "id": "NO0HTs9kVxVx"
      },
      "execution_count": null,
      "outputs": []
    },
    {
      "cell_type": "code",
      "source": [
        "class3_obj.test_class1()"
      ],
      "metadata": {
        "colab": {
          "base_uri": "https://localhost:8080/"
        },
        "id": "hQ5SaudZV3Qp",
        "outputId": "d637f4b7-c1a3-4c5d-d5ce-6aef5a973cec"
      },
      "execution_count": null,
      "outputs": [
        {
          "output_type": "stream",
          "name": "stdout",
          "text": [
            "this ismy class1\n"
          ]
        }
      ]
    },
    {
      "cell_type": "code",
      "source": [
        "class3_obj.test_class2()"
      ],
      "metadata": {
        "colab": {
          "base_uri": "https://localhost:8080/"
        },
        "id": "CBQi9Fc5V7uH",
        "outputId": "75cbb4aa-78ac-4b8b-e801-4cee28058762"
      },
      "execution_count": null,
      "outputs": [
        {
          "output_type": "stream",
          "name": "stdout",
          "text": [
            "this is my class2\n"
          ]
        }
      ]
    },
    {
      "cell_type": "code",
      "source": [
        "class3_obj.test_class3()\n"
      ],
      "metadata": {
        "colab": {
          "base_uri": "https://localhost:8080/"
        },
        "id": "lM-vsyHGWA8S",
        "outputId": "55d6b122-ae53-4376-b428-a7fccdd68746"
      },
      "execution_count": null,
      "outputs": [
        {
          "output_type": "stream",
          "name": "stdout",
          "text": [
            "this is my class3\n"
          ]
        }
      ]
    },
    {
      "cell_type": "markdown",
      "source": [
        "**Multiple Inheritance**"
      ],
      "metadata": {
        "id": "s_QCvbw7XNTB"
      }
    },
    {
      "cell_type": "code",
      "source": [
        "class class1 :\n",
        "  def test_class1(self):\n",
        "    print(\"this ismy class1\")"
      ],
      "metadata": {
        "id": "lyXS1K7nXYmx"
      },
      "execution_count": null,
      "outputs": []
    },
    {
      "cell_type": "code",
      "source": [
        "class class2:\n",
        "  def test_class2(self):\n",
        "    print(\"this is my class2\")"
      ],
      "metadata": {
        "id": "QwjxSsY7XYmy"
      },
      "execution_count": null,
      "outputs": []
    },
    {
      "cell_type": "code",
      "source": [
        "class class3(class1, class2):\n",
        "  def test_class3(self):\n",
        "\n",
        "    print(\"this is my class3\")\n"
      ],
      "metadata": {
        "id": "_cEEOURgXYmz"
      },
      "execution_count": null,
      "outputs": []
    },
    {
      "cell_type": "code",
      "source": [
        "class3_obj = class3()"
      ],
      "metadata": {
        "id": "uwxRFfBOWUaf"
      },
      "execution_count": null,
      "outputs": []
    },
    {
      "cell_type": "code",
      "source": [
        "class3_obj.test_class2"
      ],
      "metadata": {
        "colab": {
          "base_uri": "https://localhost:8080/"
        },
        "id": "aOwIi3IfXpZF",
        "outputId": "f5d3a481-d45c-4f62-f3aa-ec426e5bf43f"
      },
      "execution_count": null,
      "outputs": [
        {
          "output_type": "execute_result",
          "data": {
            "text/plain": [
              "<bound method class2.test_class2 of <__main__.class3 object at 0x7a66e0148790>>"
            ]
          },
          "metadata": {},
          "execution_count": 31
        }
      ]
    },
    {
      "cell_type": "code",
      "source": [
        "class3_obj.test_class2()\n"
      ],
      "metadata": {
        "colab": {
          "base_uri": "https://localhost:8080/"
        },
        "id": "zzkH_uakXwSo",
        "outputId": "ef578ffd-6bbf-4e6c-f4cf-6ad8208d9b20"
      },
      "execution_count": null,
      "outputs": [
        {
          "output_type": "stream",
          "name": "stdout",
          "text": [
            "this is my class2\n"
          ]
        }
      ]
    },
    {
      "cell_type": "code",
      "source": [
        "class3_obj.test_class1()"
      ],
      "metadata": {
        "colab": {
          "base_uri": "https://localhost:8080/"
        },
        "id": "AUJUE2TjXz8A",
        "outputId": "75b861f6-390c-48ab-ecb2-2ea183a3cf43"
      },
      "execution_count": null,
      "outputs": [
        {
          "output_type": "stream",
          "name": "stdout",
          "text": [
            "this ismy class1\n"
          ]
        }
      ]
    },
    {
      "cell_type": "code",
      "source": [],
      "metadata": {
        "id": "v-AVpl2KX6PH"
      },
      "execution_count": null,
      "outputs": []
    },
    {
      "cell_type": "markdown",
      "source": [
        "**ABSTRACTION**"
      ],
      "metadata": {
        "id": "Y23eTZXQhWcH"
      }
    },
    {
      "cell_type": "code",
      "source": [
        "import abc\n",
        "class iitt:\n",
        "\n",
        "  @abc.abstractmethod\n",
        "  def students_details(self):\n",
        "    pass\n",
        "\n",
        "  @abc.abstractmethod\n",
        "  def student_assignment(self):\n",
        "    pass\n",
        "\n",
        "  @abc.abstractmethod\n",
        "  def student_marks(self) :\n",
        "    pass\n",
        "\n"
      ],
      "metadata": {
        "id": "8EX8t5tthZeU"
      },
      "execution_count": null,
      "outputs": []
    },
    {
      "cell_type": "code",
      "source": [
        "class students_details(iitt):\n",
        "\n",
        "  def students_details(self):\n",
        "    return \"this is a method for taking students details\"\n",
        "\n",
        "  def student_assignment(self):\n",
        "    return \"this is a method for assigning details for a particular student\"\n",
        "\n",
        "\n",
        "\n"
      ],
      "metadata": {
        "id": "Z8MsGOeaiE0H"
      },
      "execution_count": null,
      "outputs": []
    },
    {
      "cell_type": "code",
      "source": [],
      "metadata": {
        "id": "QhB2iBOui4Vd"
      },
      "execution_count": null,
      "outputs": []
    }
  ]
}