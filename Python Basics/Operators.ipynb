{
 "cells": [
  {
   "cell_type": "markdown",
   "id": "d47fb5ca-8ec6-4fa9-ad4d-e5694d20ffc1",
   "metadata": {},
   "source": [
    "Arithmetic Operator"
   ]
  },
  {
   "cell_type": "code",
   "execution_count": 11,
   "id": "cc822c39-d681-418e-b2b1-73dc23ff0d00",
   "metadata": {},
   "outputs": [
    {
     "data": {
      "text/plain": [
       "8"
      ]
     },
     "execution_count": 11,
     "metadata": {},
     "output_type": "execute_result"
    }
   ],
   "source": [
    "5+3"
   ]
  },
  {
   "cell_type": "code",
   "execution_count": 2,
   "id": "0a3c8798-1e38-45fa-8cb7-e8f4422bf17c",
   "metadata": {},
   "outputs": [
    {
     "data": {
      "text/plain": [
       "-23"
      ]
     },
     "execution_count": 2,
     "metadata": {},
     "output_type": "execute_result"
    }
   ],
   "source": [
    "6-29"
   ]
  },
  {
   "cell_type": "code",
   "execution_count": 7,
   "id": "0215e82e-6a89-43ea-99ee-32e6f095e207",
   "metadata": {},
   "outputs": [
    {
     "data": {
      "text/plain": [
       "216"
      ]
     },
     "execution_count": 7,
     "metadata": {},
     "output_type": "execute_result"
    }
   ],
   "source": [
    "6**3  # power"
   ]
  },
  {
   "cell_type": "code",
   "execution_count": 6,
   "id": "038da284-7ba7-4fdc-b38a-ca357fbf7f7d",
   "metadata": {},
   "outputs": [
    {
     "ename": "SyntaxError",
     "evalue": "invalid syntax (693622409.py, line 1)",
     "output_type": "error",
     "traceback": [
      "\u001b[0;36m  Cell \u001b[0;32mIn[6], line 1\u001b[0;36m\u001b[0m\n\u001b[0;31m    6***3\u001b[0m\n\u001b[0m       ^\u001b[0m\n\u001b[0;31mSyntaxError\u001b[0m\u001b[0;31m:\u001b[0m invalid syntax\n"
     ]
    }
   ],
   "source": [
    "6***3"
   ]
  },
  {
   "cell_type": "markdown",
   "id": "4070f8e7-a609-4379-91a2-b43b450bd74a",
   "metadata": {},
   "source": [
    "Comparision "
   ]
  },
  {
   "cell_type": "code",
   "execution_count": 5,
   "id": "89c29762-e1fb-4432-8c9b-256c676ecab5",
   "metadata": {},
   "outputs": [
    {
     "data": {
      "text/plain": [
       "False"
      ]
     },
     "execution_count": 5,
     "metadata": {},
     "output_type": "execute_result"
    }
   ],
   "source": [
    "65>78"
   ]
  },
  {
   "cell_type": "code",
   "execution_count": 8,
   "id": "64df86a6-cbac-4dcc-9adb-7a367cb5143b",
   "metadata": {},
   "outputs": [
    {
     "data": {
      "text/plain": [
       "False"
      ]
     },
     "execution_count": 8,
     "metadata": {},
     "output_type": "execute_result"
    }
   ],
   "source": [
    "2==7"
   ]
  },
  {
   "cell_type": "code",
   "execution_count": 9,
   "id": "5e43e7a8-375a-43f1-b8f5-e6d8047ebd9d",
   "metadata": {},
   "outputs": [
    {
     "data": {
      "text/plain": [
       "True"
      ]
     },
     "execution_count": 9,
     "metadata": {},
     "output_type": "execute_result"
    }
   ],
   "source": [
    "5>=2"
   ]
  },
  {
   "cell_type": "code",
   "execution_count": 10,
   "id": "49ab86eb-0f26-44f5-b300-15d9f68c7d91",
   "metadata": {},
   "outputs": [
    {
     "data": {
      "text/plain": [
       "True"
      ]
     },
     "execution_count": 10,
     "metadata": {},
     "output_type": "execute_result"
    }
   ],
   "source": [
    "54<=67"
   ]
  },
  {
   "cell_type": "markdown",
   "id": "835366fa-6725-47d6-94ad-739bfc9aedeb",
   "metadata": {},
   "source": [
    " Logical Operator (AND, OR, NOT)"
   ]
  },
  {
   "cell_type": "code",
   "execution_count": 13,
   "id": "4d09fd93-eb20-47aa-b5bb-1dd95908458a",
   "metadata": {},
   "outputs": [
    {
     "data": {
      "text/plain": [
       "False"
      ]
     },
     "execution_count": 13,
     "metadata": {},
     "output_type": "execute_result"
    }
   ],
   "source": [
    "True and False  # (and = multiplication)"
   ]
  },
  {
   "cell_type": "code",
   "execution_count": 15,
   "id": "79ca153a-345e-4cb7-b79c-d04df5ba3333",
   "metadata": {},
   "outputs": [
    {
     "data": {
      "text/plain": [
       "True"
      ]
     },
     "execution_count": 15,
     "metadata": {},
     "output_type": "execute_result"
    }
   ],
   "source": [
    "True or False    # (or = addition)"
   ]
  },
  {
   "cell_type": "code",
   "execution_count": 16,
   "id": "e7e8ee50-b92e-4c59-8aaa-d59b53be63e2",
   "metadata": {},
   "outputs": [
    {
     "data": {
      "text/plain": [
       "True"
      ]
     },
     "execution_count": 16,
     "metadata": {},
     "output_type": "execute_result"
    }
   ],
   "source": [
    "True and True"
   ]
  },
  {
   "cell_type": "code",
   "execution_count": 17,
   "id": "30515785-ac91-460a-b61b-e7fc92132de0",
   "metadata": {},
   "outputs": [
    {
     "data": {
      "text/plain": [
       "False"
      ]
     },
     "execution_count": 17,
     "metadata": {},
     "output_type": "execute_result"
    }
   ],
   "source": [
    "False or False"
   ]
  },
  {
   "cell_type": "markdown",
   "id": "73b19308-8704-42e3-b99c-b73bf6eb661d",
   "metadata": {},
   "source": [
    "Bitwise Operators  ( It converts any integer to binary)"
   ]
  },
  {
   "cell_type": "code",
   "execution_count": 21,
   "id": "6b41c8e4-f9aa-400f-8e9f-c3aa2b9b495a",
   "metadata": {},
   "outputs": [
    {
     "data": {
      "text/plain": [
       "0"
      ]
     },
     "execution_count": 21,
     "metadata": {},
     "output_type": "execute_result"
    }
   ],
   "source": [
    "10 & 4  # internally converted into binary then performed AND operation"
   ]
  },
  {
   "cell_type": "code",
   "execution_count": 22,
   "id": "e4500d52-132b-43b9-adeb-75cca884f041",
   "metadata": {},
   "outputs": [
    {
     "data": {
      "text/plain": [
       "'0b1010'"
      ]
     },
     "execution_count": 22,
     "metadata": {},
     "output_type": "execute_result"
    }
   ],
   "source": [
    "bin(10)    # bin is a function to convert a decimal no into binary no"
   ]
  },
  {
   "cell_type": "code",
   "execution_count": 23,
   "id": "bdb631ed-c64f-457b-9376-0ddc5c2bd624",
   "metadata": {},
   "outputs": [
    {
     "data": {
      "text/plain": [
       "'0b100'"
      ]
     },
     "execution_count": 23,
     "metadata": {},
     "output_type": "execute_result"
    }
   ],
   "source": [
    "bin(4)"
   ]
  },
  {
   "cell_type": "raw",
   "id": "6bc88943-d5e3-4325-8273-d6d4a403035e",
   "metadata": {},
   "source": [
    "     &\n",
    "    1 0 => 0\n",
    "    0 1 => 0\n",
    "    1 0 => 0\n",
    "    0 0 => 0"
   ]
  },
  {
   "cell_type": "code",
   "execution_count": 25,
   "id": "58640b38-41ca-43fd-8887-a9c37f261627",
   "metadata": {},
   "outputs": [
    {
     "data": {
      "text/plain": [
       "15"
      ]
     },
     "execution_count": 25,
     "metadata": {},
     "output_type": "execute_result"
    }
   ],
   "source": [
    "11|6"
   ]
  },
  {
   "cell_type": "code",
   "execution_count": 26,
   "id": "37bea9ab-ce28-43eb-8ac2-dc82a31251df",
   "metadata": {},
   "outputs": [
    {
     "data": {
      "text/plain": [
       "'0b1011'"
      ]
     },
     "execution_count": 26,
     "metadata": {},
     "output_type": "execute_result"
    }
   ],
   "source": [
    "bin(11)"
   ]
  },
  {
   "cell_type": "code",
   "execution_count": 27,
   "id": "dd2c29fa-5218-4948-917b-a5495b35bfa9",
   "metadata": {},
   "outputs": [
    {
     "data": {
      "text/plain": [
       "'0b110'"
      ]
     },
     "execution_count": 27,
     "metadata": {},
     "output_type": "execute_result"
    }
   ],
   "source": [
    "bin(6)"
   ]
  },
  {
   "cell_type": "raw",
   "id": "946df1d4-ade9-4a1b-82c6-9a0c4280d688",
   "metadata": {},
   "source": [
    "     |(or)\n",
    "    1 0 => 1\n",
    "    0 1 => 1\n",
    "    1 1 => 1\n",
    "    1 0 => 1"
   ]
  },
  {
   "cell_type": "code",
   "execution_count": 28,
   "id": "8be42c61-1e83-4735-bfab-a3e0425e3816",
   "metadata": {},
   "outputs": [
    {
     "data": {
      "text/plain": [
       "-21"
      ]
     },
     "execution_count": 28,
     "metadata": {},
     "output_type": "execute_result"
    }
   ],
   "source": [
    "~20"
   ]
  },
  {
   "cell_type": "code",
   "execution_count": 29,
   "id": "0d6ef9c0-426b-4c21-adb7-99a3890fc8ed",
   "metadata": {},
   "outputs": [
    {
     "data": {
      "text/plain": [
       "-6"
      ]
     },
     "execution_count": 29,
     "metadata": {},
     "output_type": "execute_result"
    }
   ],
   "source": [
    "~5"
   ]
  },
  {
   "cell_type": "code",
   "execution_count": 30,
   "id": "e67c9374-ecb2-4663-851d-f5fba5722a27",
   "metadata": {},
   "outputs": [],
   "source": [
    "a = 8"
   ]
  },
  {
   "cell_type": "code",
   "execution_count": 36,
   "id": "e39a348f-7d4b-47a4-a1a8-d5a27c406b75",
   "metadata": {},
   "outputs": [
    {
     "data": {
      "text/plain": [
       "2"
      ]
     },
     "execution_count": 36,
     "metadata": {},
     "output_type": "execute_result"
    }
   ],
   "source": [
    "a>>2    # >> right sift operator   [10000, >>3 = 100]"
   ]
  },
  {
   "cell_type": "code",
   "execution_count": 32,
   "id": "975dde4d-620c-4337-ba9e-370aeaec09c8",
   "metadata": {},
   "outputs": [
    {
     "data": {
      "text/plain": [
       "1"
      ]
     },
     "execution_count": 32,
     "metadata": {},
     "output_type": "execute_result"
    }
   ],
   "source": [
    "a>>3"
   ]
  },
  {
   "cell_type": "code",
   "execution_count": 37,
   "id": "6877043f-fb25-4ac8-8bb2-666d22240a44",
   "metadata": {},
   "outputs": [
    {
     "data": {
      "text/plain": [
       "80"
      ]
     },
     "execution_count": 37,
     "metadata": {},
     "output_type": "execute_result"
    }
   ],
   "source": [
    "20<<2   # << left shift operator  [add zeros]"
   ]
  },
  {
   "cell_type": "code",
   "execution_count": 35,
   "id": "6a614f92-4819-437a-ab3d-dc0adc51394b",
   "metadata": {},
   "outputs": [
    {
     "data": {
      "text/plain": [
       "'0b1010000'"
      ]
     },
     "execution_count": 35,
     "metadata": {},
     "output_type": "execute_result"
    }
   ],
   "source": [
    "bin(80)"
   ]
  },
  {
   "cell_type": "code",
   "execution_count": 38,
   "id": "50123d29-9ec3-4a0f-87fd-97cdf61e7552",
   "metadata": {},
   "outputs": [],
   "source": [
    "d = 6\n",
    "d+=1"
   ]
  },
  {
   "cell_type": "code",
   "execution_count": 39,
   "id": "59303294-b788-47d3-8778-3b2e415a88c6",
   "metadata": {},
   "outputs": [
    {
     "data": {
      "text/plain": [
       "7"
      ]
     },
     "execution_count": 39,
     "metadata": {},
     "output_type": "execute_result"
    }
   ],
   "source": [
    "d"
   ]
  },
  {
   "cell_type": "code",
   "execution_count": 40,
   "id": "2a94e4d7-00e8-4253-872c-7de3946ba4f9",
   "metadata": {},
   "outputs": [],
   "source": [
    "x = 7\n",
    "x-=5"
   ]
  },
  {
   "cell_type": "code",
   "execution_count": 41,
   "id": "94f737c5-fd8f-47eb-9036-243bf5bd709a",
   "metadata": {},
   "outputs": [
    {
     "data": {
      "text/plain": [
       "2"
      ]
     },
     "execution_count": 41,
     "metadata": {},
     "output_type": "execute_result"
    }
   ],
   "source": [
    "x"
   ]
  },
  {
   "cell_type": "code",
   "execution_count": null,
   "id": "a08e08a8-116d-458d-8f53-c8e1bd610288",
   "metadata": {},
   "outputs": [],
   "source": []
  }
 ],
 "metadata": {
  "kernelspec": {
   "display_name": "Python 3 (ipykernel)",
   "language": "python",
   "name": "python3"
  },
  "language_info": {
   "codemirror_mode": {
    "name": "ipython",
    "version": 3
   },
   "file_extension": ".py",
   "mimetype": "text/x-python",
   "name": "python",
   "nbconvert_exporter": "python",
   "pygments_lexer": "ipython3",
   "version": "3.10.8"
  }
 },
 "nbformat": 4,
 "nbformat_minor": 5
}
