{
 "cells": [
  {
   "cell_type": "code",
   "execution_count": 7,
   "id": "9c20618a-f51d-4fbe-878e-b9d85e86c6a1",
   "metadata": {},
   "outputs": [
    {
     "name": "stdout",
     "output_type": "stream",
     "text": [
      "No a is less than 10\n"
     ]
    }
   ],
   "source": [
    "a = 10\n",
    "if a >= 12:\n",
    "    print(\"yes a is greater than 10\")\n",
    "else:\n",
    "    print(\"No a is less than 10\")"
   ]
  },
  {
   "cell_type": "code",
   "execution_count": 4,
   "id": "79123078-73b5-4666-bbc4-7ee66e280df5",
   "metadata": {},
   "outputs": [
    {
     "data": {
      "text/plain": [
       "True"
      ]
     },
     "execution_count": 4,
     "metadata": {},
     "output_type": "execute_result"
    }
   ],
   "source": [
    "a>4"
   ]
  },
  {
   "cell_type": "code",
   "execution_count": 13,
   "id": "3c0605c9-2ab6-4d42-8ddf-3417a9845c6a",
   "metadata": {},
   "outputs": [
    {
     "name": "stdout",
     "output_type": "stream",
     "text": [
      "yes b is lesser than 30\n"
     ]
    }
   ],
   "source": [
    "b = 20\n",
    "if b > 30:\n",
    "    print(\"yes b is greater than 30\")\n",
    "elif b > 13:\n",
    "    print(\"yes b is lesser than 30\")\n",
    "elif b > 100:\n",
    "    print(\"yes b is greater than 100\")\n",
    "else:\n",
    "    print(\"default\")\n",
    "    \n",
    "    "
   ]
  },
  {
   "cell_type": "markdown",
   "id": "d20817ba-6491-4a47-839e-22859ce233ac",
   "metadata": {},
   "source": [
    "Input Function  (Typecasting)"
   ]
  },
  {
   "cell_type": "code",
   "execution_count": null,
   "id": "9e15e970-7dc4-4757-826c-d2c814b7e598",
   "metadata": {},
   "outputs": [],
   "source": [
    "input()"
   ]
  },
  {
   "cell_type": "code",
   "execution_count": 9,
   "id": "2c9d732d-adae-4c11-8ced-931eaea183e6",
   "metadata": {},
   "outputs": [
    {
     "name": "stdout",
     "output_type": "stream",
     "text": [
      "child\n"
     ]
    }
   ],
   "source": [
    "age = int(input())\n",
    "\n",
    "age = 13\n",
    "if age < 5:\n",
    "    print(\"baby\")\n",
    "elif age >=5 & age < 13:\n",
    "    print (\"child\")\n",
    "elif age >=13 & age < 20:\n",
    "    print (\"teenager\")\n",
    "else:\n",
    "    print (\"adult\")"
   ]
  },
  {
   "cell_type": "code",
   "execution_count": 11,
   "id": "fd0d1125-f5d3-4900-923f-1c889980544b",
   "metadata": {},
   "outputs": [
    {
     "data": {
      "text/plain": [
       "13"
      ]
     },
     "execution_count": 11,
     "metadata": {},
     "output_type": "execute_result"
    }
   ],
   "source": []
  },
  {
   "cell_type": "code",
   "execution_count": null,
   "id": "0d4beabe-c1c5-4b59-b09c-868a24720296",
   "metadata": {},
   "outputs": [],
   "source": []
  }
 ],
 "metadata": {
  "kernelspec": {
   "display_name": "Python 3 (ipykernel)",
   "language": "python",
   "name": "python3"
  },
  "language_info": {
   "codemirror_mode": {
    "name": "ipython",
    "version": 3
   },
   "file_extension": ".py",
   "mimetype": "text/x-python",
   "name": "python",
   "nbconvert_exporter": "python",
   "pygments_lexer": "ipython3",
   "version": "3.10.8"
  }
 },
 "nbformat": 4,
 "nbformat_minor": 5
}
