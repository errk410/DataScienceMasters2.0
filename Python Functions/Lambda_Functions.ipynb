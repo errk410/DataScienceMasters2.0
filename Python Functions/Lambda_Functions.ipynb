{
  "nbformat": 4,
  "nbformat_minor": 0,
  "metadata": {
    "colab": {
      "provenance": []
    },
    "kernelspec": {
      "name": "python3",
      "display_name": "Python 3"
    },
    "language_info": {
      "name": "python"
    }
  },
  "cells": [
    {
      "cell_type": "markdown",
      "source": [
        "**Lambda Functions:** lambda is reserve keyword in python. One liner function or lambda function or anormous function."
      ],
      "metadata": {
        "id": "Ym2qfZF7aFgY"
      }
    },
    {
      "cell_type": "code",
      "source": [
        "n = 3\n",
        "p =2"
      ],
      "metadata": {
        "id": "-d7UsCIRaVCc"
      },
      "execution_count": null,
      "outputs": []
    },
    {
      "cell_type": "code",
      "source": [
        "def test(n,p):\n",
        "  return n**p"
      ],
      "metadata": {
        "id": "MHIsSi7UaeT9"
      },
      "execution_count": null,
      "outputs": []
    },
    {
      "cell_type": "code",
      "source": [
        "test(3,2)"
      ],
      "metadata": {
        "colab": {
          "base_uri": "https://localhost:8080/"
        },
        "id": "OOEWcBAXako3",
        "outputId": "877cf87b-da8b-400c-fd91-49bc0b183457"
      },
      "execution_count": null,
      "outputs": [
        {
          "output_type": "execute_result",
          "data": {
            "text/plain": [
              "9"
            ]
          },
          "metadata": {},
          "execution_count": 4
        }
      ]
    },
    {
      "cell_type": "code",
      "source": [
        "lambda n, p: n**p    # we didn't write the name of function\n",
        "# we have initialized from lambda"
      ],
      "metadata": {
        "colab": {
          "base_uri": "https://localhost:8080/"
        },
        "id": "Cq26BhHPapxp",
        "outputId": "0b01529a-9d6e-4e67-82db-f1bfb8b2680e"
      },
      "execution_count": null,
      "outputs": [
        {
          "output_type": "execute_result",
          "data": {
            "text/plain": [
              "<function __main__.<lambda>(n, p)>"
            ]
          },
          "metadata": {},
          "execution_count": 6
        }
      ]
    },
    {
      "cell_type": "code",
      "source": [
        "a = lambda n,p: n**p"
      ],
      "metadata": {
        "id": "IlTaMLYcazSR"
      },
      "execution_count": null,
      "outputs": []
    },
    {
      "cell_type": "code",
      "source": [
        "a(3,2)"
      ],
      "metadata": {
        "colab": {
          "base_uri": "https://localhost:8080/"
        },
        "id": "K_ionX9tbI9d",
        "outputId": "e8e9e710-aa0a-42c0-f153-339055297f4f"
      },
      "execution_count": null,
      "outputs": [
        {
          "output_type": "execute_result",
          "data": {
            "text/plain": [
              "9"
            ]
          },
          "metadata": {},
          "execution_count": 8
        }
      ]
    },
    {
      "cell_type": "code",
      "source": [
        "add = lambda x,y : x+y"
      ],
      "metadata": {
        "id": "QcZwblPTbKjX"
      },
      "execution_count": null,
      "outputs": []
    },
    {
      "cell_type": "code",
      "source": [
        "add(4,5)  # we are not giving any name to fn just made and stored. calling through that variable of function object"
      ],
      "metadata": {
        "colab": {
          "base_uri": "https://localhost:8080/"
        },
        "id": "l0IU-R3Eb1oj",
        "outputId": "cb69450a-f2f2-4fce-92d7-2e5950a9600a"
      },
      "execution_count": null,
      "outputs": [
        {
          "output_type": "execute_result",
          "data": {
            "text/plain": [
              "9"
            ]
          },
          "metadata": {},
          "execution_count": 10
        }
      ]
    },
    {
      "cell_type": "code",
      "source": [
        "c_to_f = lambda c : (9/5)*c + 32  # celcius to farrenhite"
      ],
      "metadata": {
        "id": "4K45cAKkb5UN"
      },
      "execution_count": null,
      "outputs": []
    },
    {
      "cell_type": "code",
      "source": [
        "c_to_f(45)"
      ],
      "metadata": {
        "colab": {
          "base_uri": "https://localhost:8080/"
        },
        "id": "b3dERkizcp9c",
        "outputId": "5571a3c1-0ea2-441c-c629-d43072245ddf"
      },
      "execution_count": null,
      "outputs": [
        {
          "output_type": "execute_result",
          "data": {
            "text/plain": [
              "113.0"
            ]
          },
          "metadata": {},
          "execution_count": 12
        }
      ]
    },
    {
      "cell_type": "markdown",
      "source": [
        "## Finding a maximum of two numbers using a lambda function"
      ],
      "metadata": {
        "id": "-BGAbX_ic1gz"
      }
    },
    {
      "cell_type": "code",
      "source": [
        "finding_max = lambda x,y : x if x > y else y"
      ],
      "metadata": {
        "id": "qvM5yjeZcs0a"
      },
      "execution_count": null,
      "outputs": []
    },
    {
      "cell_type": "code",
      "source": [
        "finding_max(34,22)"
      ],
      "metadata": {
        "colab": {
          "base_uri": "https://localhost:8080/"
        },
        "id": "nNjBchBLdJ4P",
        "outputId": "1c512b10-59c0-4566-a768-c3a8b8ac5600"
      },
      "execution_count": null,
      "outputs": [
        {
          "output_type": "execute_result",
          "data": {
            "text/plain": [
              "34"
            ]
          },
          "metadata": {},
          "execution_count": 15
        }
      ]
    },
    {
      "cell_type": "code",
      "source": [
        "# write a lamda function which will return the length of the string\n",
        "s =\"sweety\""
      ],
      "metadata": {
        "id": "OAScLYhjdP6_"
      },
      "execution_count": null,
      "outputs": []
    },
    {
      "cell_type": "code",
      "source": [
        "find_len = lambda s : len(s)"
      ],
      "metadata": {
        "id": "qSUy8WZ3ddJf"
      },
      "execution_count": null,
      "outputs": []
    },
    {
      "cell_type": "code",
      "source": [
        "find_len(s)"
      ],
      "metadata": {
        "colab": {
          "base_uri": "https://localhost:8080/"
        },
        "id": "V-4kZ7iGdqFR",
        "outputId": "b0162055-df80-4774-c391-fee622db1bfc"
      },
      "execution_count": null,
      "outputs": [
        {
          "output_type": "execute_result",
          "data": {
            "text/plain": [
              "6"
            ]
          },
          "metadata": {},
          "execution_count": 19
        }
      ]
    },
    {
      "cell_type": "code",
      "source": [
        "s1 = \"my name is sweety\""
      ],
      "metadata": {
        "id": "qteayfomdrdG"
      },
      "execution_count": null,
      "outputs": []
    },
    {
      "cell_type": "code",
      "source": [
        "find_len = lambda s1 : len(s1)"
      ],
      "metadata": {
        "id": "XkDUOALad23T"
      },
      "execution_count": null,
      "outputs": []
    },
    {
      "cell_type": "code",
      "source": [
        "find_len(s1)"
      ],
      "metadata": {
        "colab": {
          "base_uri": "https://localhost:8080/"
        },
        "id": "-vOAXybHd5F0",
        "outputId": "ab2ad7bf-6761-4a86-d04a-0211422995a2"
      },
      "execution_count": null,
      "outputs": [
        {
          "output_type": "execute_result",
          "data": {
            "text/plain": [
              "17"
            ]
          },
          "metadata": {},
          "execution_count": 22
        }
      ]
    },
    {
      "cell_type": "code",
      "source": [],
      "metadata": {
        "id": "DQG6be4bd79t"
      },
      "execution_count": null,
      "outputs": []
    }
  ]
}