{
 "cells": [
  {
   "cell_type": "code",
   "execution_count": 1,
   "id": "d394d87c-4804-4af9-9a55-cf380320b458",
   "metadata": {},
   "outputs": [],
   "source": [
    "a = [2,3,5,9,\"rk\",3+4j,68,39.5]"
   ]
  },
  {
   "cell_type": "code",
   "execution_count": 2,
   "id": "59e380b1-971a-47c1-a762-22b2b020c20b",
   "metadata": {},
   "outputs": [
    {
     "data": {
      "text/plain": [
       "[2, 3, 5, 9, 'rk', (3+4j), 68, 39.5]"
      ]
     },
     "execution_count": 2,
     "metadata": {},
     "output_type": "execute_result"
    }
   ],
   "source": [
    "a"
   ]
  },
  {
   "cell_type": "code",
   "execution_count": 3,
   "id": "6f8ce064-e81a-4dbd-a686-1c774b7c105b",
   "metadata": {},
   "outputs": [
    {
     "data": {
      "text/plain": [
       "list"
      ]
     },
     "execution_count": 3,
     "metadata": {},
     "output_type": "execute_result"
    }
   ],
   "source": [
    "type(a)"
   ]
  },
  {
   "cell_type": "code",
   "execution_count": 4,
   "id": "db3df296-40a0-432b-9462-3612c5da63d7",
   "metadata": {},
   "outputs": [],
   "source": [
    "s = \"sweety\"      # 0 1 2 3 4 5\n",
    "                  # s w e e t y\n",
    "                  #-6-5-4-3-2-1 "
   ]
  },
  {
   "cell_type": "code",
   "execution_count": 5,
   "id": "a9997c7b-0ac7-4685-b7a3-0473de2a7fdb",
   "metadata": {},
   "outputs": [
    {
     "data": {
      "text/plain": [
       "2"
      ]
     },
     "execution_count": 5,
     "metadata": {},
     "output_type": "execute_result"
    }
   ],
   "source": [
    " a[0]"
   ]
  },
  {
   "cell_type": "code",
   "execution_count": 6,
   "id": "442fc63e-0f0b-47c0-b3f5-f47fd0a530ec",
   "metadata": {},
   "outputs": [
    {
     "data": {
      "text/plain": [
       "(3+4j)"
      ]
     },
     "execution_count": 6,
     "metadata": {},
     "output_type": "execute_result"
    }
   ],
   "source": [
    "a[5]"
   ]
  },
  {
   "cell_type": "code",
   "execution_count": 7,
   "id": "1959ed50-9001-407d-9ea7-c50cda4aeb21",
   "metadata": {},
   "outputs": [
    {
     "data": {
      "text/plain": [
       "(3+4j)"
      ]
     },
     "execution_count": 7,
     "metadata": {},
     "output_type": "execute_result"
    }
   ],
   "source": [
    "a[-3]"
   ]
  },
  {
   "cell_type": "code",
   "execution_count": 8,
   "id": "2fb1db8a-966a-4196-9738-6a85b7345654",
   "metadata": {},
   "outputs": [
    {
     "data": {
      "text/plain": [
       "[2, 3, 5, 9, 'rk', (3+4j), 68, 39.5]"
      ]
     },
     "execution_count": 8,
     "metadata": {},
     "output_type": "execute_result"
    }
   ],
   "source": [
    "a"
   ]
  },
  {
   "cell_type": "code",
   "execution_count": 10,
   "id": "37747467-4220-42ca-b506-584e00e25385",
   "metadata": {},
   "outputs": [],
   "source": [
    "a[3] = 8  # reassignment of data on a particular index"
   ]
  },
  {
   "cell_type": "code",
   "execution_count": 11,
   "id": "8b08d6e3-9fd8-496e-825f-85ea67e1ddce",
   "metadata": {},
   "outputs": [
    {
     "data": {
      "text/plain": [
       "[2, 3, 5, 8, 'rk', (3+4j), 68, 39.5]"
      ]
     },
     "execution_count": 11,
     "metadata": {},
     "output_type": "execute_result"
    }
   ],
   "source": [
    "a"
   ]
  },
  {
   "cell_type": "code",
   "execution_count": 12,
   "id": "fd915600-4b7e-47e7-ac2d-6ec303caec9a",
   "metadata": {},
   "outputs": [],
   "source": [
    "a[4] = \"harry\""
   ]
  },
  {
   "cell_type": "code",
   "execution_count": 13,
   "id": "2796422a-e7c3-48c8-bb1c-3116df56b8e6",
   "metadata": {},
   "outputs": [
    {
     "data": {
      "text/plain": [
       "[2, 3, 5, 8, 'harry', (3+4j), 68, 39.5]"
      ]
     },
     "execution_count": 13,
     "metadata": {},
     "output_type": "execute_result"
    }
   ],
   "source": [
    "a"
   ]
  },
  {
   "cell_type": "code",
   "execution_count": 15,
   "id": "be6379cd-1a79-4263-a13e-ebb319a09911",
   "metadata": {},
   "outputs": [],
   "source": [
    "s = \"sweety\""
   ]
  },
  {
   "cell_type": "code",
   "execution_count": 17,
   "id": "c4c8b91a-e156-4dfd-a1dc-c8109ff4e054",
   "metadata": {},
   "outputs": [
    {
     "data": {
      "text/plain": [
       "'sweety'"
      ]
     },
     "execution_count": 17,
     "metadata": {},
     "output_type": "execute_result"
    }
   ],
   "source": [
    "s"
   ]
  },
  {
   "cell_type": "code",
   "execution_count": 18,
   "id": "afdcc14b-a04f-4bca-8fa2-0258885cd522",
   "metadata": {},
   "outputs": [
    {
     "ename": "NameError",
     "evalue": "name 'v' is not defined",
     "output_type": "error",
     "traceback": [
      "\u001b[0;31m---------------------------------------------------------------------------\u001b[0m",
      "\u001b[0;31mNameError\u001b[0m                                 Traceback (most recent call last)",
      "Cell \u001b[0;32mIn[18], line 1\u001b[0m\n\u001b[0;32m----> 1\u001b[0m s[\u001b[38;5;241m1\u001b[39m] \u001b[38;5;241m=\u001b[39m \u001b[43mv\u001b[49m\n",
      "\u001b[0;31mNameError\u001b[0m: name 'v' is not defined"
     ]
    }
   ],
   "source": [
    "s[1] = v   # we cant reassign in string means String is immutable but list is mutable"
   ]
  },
  {
   "cell_type": "code",
   "execution_count": null,
   "id": "321ce479-dc38-437d-9e72-5df87abb3e54",
   "metadata": {},
   "outputs": [],
   "source": []
  }
 ],
 "metadata": {
  "kernelspec": {
   "display_name": "Python 3 (ipykernel)",
   "language": "python",
   "name": "python3"
  },
  "language_info": {
   "codemirror_mode": {
    "name": "ipython",
    "version": 3
   },
   "file_extension": ".py",
   "mimetype": "text/x-python",
   "name": "python",
   "nbconvert_exporter": "python",
   "pygments_lexer": "ipython3",
   "version": "3.10.8"
  }
 },
 "nbformat": 4,
 "nbformat_minor": 5
}
