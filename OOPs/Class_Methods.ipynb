{
  "nbformat": 4,
  "nbformat_minor": 0,
  "metadata": {
    "colab": {
      "provenance": []
    },
    "kernelspec": {
      "name": "python3",
      "display_name": "Python 3"
    },
    "language_info": {
      "name": "python"
    }
  },
  "cells": [
    {
      "cell_type": "markdown",
      "source": [
        "**Class Method:** In Python, a class method is a special type of method that is bound to the class and not the instance of the class (object). This means that you can call a class method on the class itself, rather than on an instance of the class. Class methods are defined using the @classmethod decorator and take the class itself as their first argument, often conventionally named cls."
      ],
      "metadata": {
        "id": "dit0-esJtcd0"
      }
    },
    {
      "cell_type": "code",
      "execution_count": null,
      "metadata": {
        "id": "HrhxMZNKryl2"
      },
      "outputs": [],
      "source": [
        "class iitt:\n",
        "  def __init__(self, name, email):\n",
        "\n",
        "    self.name = name\n",
        "    self.email = email\n",
        "\n",
        "  def students_details(self):\n",
        "    print(self.name, self.email)\n"
      ]
    },
    {
      "cell_type": "code",
      "source": [
        "iitt = iitt(\"rk\", \"rk@gmail.com\")"
      ],
      "metadata": {
        "id": "Wpfh6Le8wrNd"
      },
      "execution_count": null,
      "outputs": []
    },
    {
      "cell_type": "code",
      "source": [
        "iitt.name"
      ],
      "metadata": {
        "colab": {
          "base_uri": "https://localhost:8080/",
          "height": 35
        },
        "id": "msurMDMPw0Gl",
        "outputId": "06fd9aa6-d7a6-498e-a6cf-4bfc5fed9344"
      },
      "execution_count": null,
      "outputs": [
        {
          "output_type": "execute_result",
          "data": {
            "text/plain": [
              "'rk'"
            ],
            "application/vnd.google.colaboratory.intrinsic+json": {
              "type": "string"
            }
          },
          "metadata": {},
          "execution_count": 3
        }
      ]
    },
    {
      "cell_type": "code",
      "source": [
        "iitt.students_details()"
      ],
      "metadata": {
        "colab": {
          "base_uri": "https://localhost:8080/"
        },
        "id": "4C7nJdJjw3pt",
        "outputId": "dd3d4714-a9d2-48e7-f884-f36dff05a932"
      },
      "execution_count": null,
      "outputs": [
        {
          "output_type": "stream",
          "name": "stdout",
          "text": [
            "rk rk@gmail.com\n"
          ]
        }
      ]
    },
    {
      "cell_type": "code",
      "source": [
        "class iitt1:\n",
        "  def __init__(self, name, email):\n",
        "\n",
        "    self.name = name\n",
        "    self.email = email\n",
        "\n",
        "  @classmethod\n",
        "  def details(cls, name, email):\n",
        "    return cls(name, email)\n",
        "\n",
        "  def students_details(self):\n",
        "    print(self.name, self.email)"
      ],
      "metadata": {
        "id": "YfDSRvyew8iW"
      },
      "execution_count": null,
      "outputs": []
    },
    {
      "cell_type": "code",
      "source": [
        "iitt1.details"
      ],
      "metadata": {
        "colab": {
          "base_uri": "https://localhost:8080/"
        },
        "id": "rm4GPfPtyuJi",
        "outputId": "ef34d8e6-6a8d-4ba3-8aa5-aa65332543dd"
      },
      "execution_count": null,
      "outputs": [
        {
          "output_type": "execute_result",
          "data": {
            "text/plain": [
              "<bound method iitt1.details of <class '__main__.iitt1'>>"
            ]
          },
          "metadata": {},
          "execution_count": 10
        }
      ]
    },
    {
      "cell_type": "code",
      "source": [
        "iitt1.details()"
      ],
      "metadata": {
        "colab": {
          "base_uri": "https://localhost:8080/",
          "height": 193
        },
        "id": "PyM-oJZmy1ZV",
        "outputId": "45ed114f-db86-4aec-e92d-cd697f797e7c"
      },
      "execution_count": null,
      "outputs": [
        {
          "output_type": "error",
          "ename": "TypeError",
          "evalue": "ignored",
          "traceback": [
            "\u001b[0;31m---------------------------------------------------------------------------\u001b[0m",
            "\u001b[0;31mTypeError\u001b[0m                                 Traceback (most recent call last)",
            "\u001b[0;32m<ipython-input-11-1796ef90f83f>\u001b[0m in \u001b[0;36m<cell line: 1>\u001b[0;34m()\u001b[0m\n\u001b[0;32m----> 1\u001b[0;31m \u001b[0miitt1\u001b[0m\u001b[0;34m.\u001b[0m\u001b[0mdetails\u001b[0m\u001b[0;34m(\u001b[0m\u001b[0;34m)\u001b[0m\u001b[0;34m\u001b[0m\u001b[0;34m\u001b[0m\u001b[0m\n\u001b[0m",
            "\u001b[0;31mTypeError\u001b[0m: iitt1.details() missing 2 required positional arguments: 'name' and 'email'"
          ]
        }
      ]
    },
    {
      "cell_type": "code",
      "source": [
        "iitt1.details(\"rk\", \"rk@gmail.com\")"
      ],
      "metadata": {
        "colab": {
          "base_uri": "https://localhost:8080/"
        },
        "id": "bs1URQ1ky-Nw",
        "outputId": "27c5fd3c-d61d-4c16-8e3a-b1dfe22a70f8"
      },
      "execution_count": null,
      "outputs": [
        {
          "output_type": "execute_result",
          "data": {
            "text/plain": [
              "<__main__.iitt1 at 0x7e83f5305120>"
            ]
          },
          "metadata": {},
          "execution_count": 12
        }
      ]
    },
    {
      "cell_type": "code",
      "source": [
        "it1 = iitt1.details(\"rk\", \"rk@gmail.com\")\n"
      ],
      "metadata": {
        "id": "tcxlcbmizuj_"
      },
      "execution_count": null,
      "outputs": []
    },
    {
      "cell_type": "code",
      "source": [
        "it1.name"
      ],
      "metadata": {
        "colab": {
          "base_uri": "https://localhost:8080/",
          "height": 35
        },
        "id": "3D9VWUgqzEX5",
        "outputId": "84d67247-6a71-42d4-f58d-f260f9b74da7"
      },
      "execution_count": null,
      "outputs": [
        {
          "output_type": "execute_result",
          "data": {
            "text/plain": [
              "'rk'"
            ],
            "application/vnd.google.colaboratory.intrinsic+json": {
              "type": "string"
            }
          },
          "metadata": {},
          "execution_count": 16
        }
      ]
    },
    {
      "cell_type": "code",
      "source": [
        "class iitt2:\n",
        "\n",
        "  mobile_num = 9518328339\n",
        "\n",
        "  def __init__(self, name, email):\n",
        "\n",
        "    self.name = name\n",
        "    self.email = email\n",
        "\n",
        "  @classmethod\n",
        "  def change_number(cls, mobile):\n",
        "    iitt2.mobile_num = mobile\n",
        "\n",
        "  @classmethod\n",
        "  def details(cls, name, email):\n",
        "    return cls(name, email)\n",
        "\n",
        "  def students_details(self):\n",
        "    print(self.name, self.email, iitt2.mobile_num)"
      ],
      "metadata": {
        "id": "jQovZ2klzpPH"
      },
      "execution_count": null,
      "outputs": []
    },
    {
      "cell_type": "code",
      "source": [
        "it2 = iitt2.details(\"sweety\", \"sweety@gmail.com\")"
      ],
      "metadata": {
        "id": "bAPpjaAGdYiW"
      },
      "execution_count": null,
      "outputs": []
    },
    {
      "cell_type": "code",
      "source": [
        "it2.students_details()"
      ],
      "metadata": {
        "colab": {
          "base_uri": "https://localhost:8080/"
        },
        "id": "t60RskwXdxIq",
        "outputId": "477559e0-19b7-444d-db65-e341f1b818e9"
      },
      "execution_count": null,
      "outputs": [
        {
          "output_type": "stream",
          "name": "stdout",
          "text": [
            "sweety sweety@gmail.com 9518328339\n"
          ]
        }
      ]
    },
    {
      "cell_type": "code",
      "source": [
        "iitt2.mobile_num"
      ],
      "metadata": {
        "colab": {
          "base_uri": "https://localhost:8080/"
        },
        "id": "YucxeLnz0L-C",
        "outputId": "f1cda194-9d70-49d0-94ce-77b83a93e0e2"
      },
      "execution_count": null,
      "outputs": [
        {
          "output_type": "execute_result",
          "data": {
            "text/plain": [
              "9518328339"
            ]
          },
          "metadata": {},
          "execution_count": 18
        }
      ]
    },
    {
      "cell_type": "code",
      "source": [
        "it_obj = iitt2(\"sweety\", \"sweety@gmail.com\")"
      ],
      "metadata": {
        "id": "jC6SIAu10TLw"
      },
      "execution_count": null,
      "outputs": []
    },
    {
      "cell_type": "code",
      "source": [
        "it_obj.students_details()"
      ],
      "metadata": {
        "colab": {
          "base_uri": "https://localhost:8080/"
        },
        "id": "HCGp1e7Uee3a",
        "outputId": "4f4e3a69-6fc5-4037-bcc4-6fe7884177a0"
      },
      "execution_count": null,
      "outputs": [
        {
          "output_type": "stream",
          "name": "stdout",
          "text": [
            "sweety sweety@gmail.com 9518328339\n"
          ]
        }
      ]
    },
    {
      "cell_type": "code",
      "source": [
        "iitt2.change_number(7541995447)"
      ],
      "metadata": {
        "id": "lRcgCmLeeoOK"
      },
      "execution_count": null,
      "outputs": []
    },
    {
      "cell_type": "code",
      "source": [
        "iitt2.mobile_num"
      ],
      "metadata": {
        "colab": {
          "base_uri": "https://localhost:8080/"
        },
        "id": "8-zBy2XHeyHp",
        "outputId": "2b98762e-7e4a-43dc-eb30-177a2d826560"
      },
      "execution_count": null,
      "outputs": [
        {
          "output_type": "execute_result",
          "data": {
            "text/plain": [
              "7541995447"
            ]
          },
          "metadata": {},
          "execution_count": 22
        }
      ]
    },
    {
      "cell_type": "code",
      "source": [
        "class iitt3:\n",
        "\n",
        "  mobile_num = 9518328339\n",
        "\n",
        "  def __init__(self, name, email):\n",
        "\n",
        "    self.name = name\n",
        "    self.email = email\n",
        "\n",
        "  @classmethod\n",
        "  def change_number(cls, mobile):\n",
        "    iitt2.mobile_num = mobile\n",
        "\n",
        "  @classmethod\n",
        "  def details(cls, name, email):\n",
        "    return cls(name, email)\n",
        "\n",
        "  def students_details(self):\n",
        "    print(self.name, self.email, iitt2.mobile_num)"
      ],
      "metadata": {
        "id": "zBptbyu6e8O-"
      },
      "execution_count": null,
      "outputs": []
    },
    {
      "cell_type": "code",
      "source": [
        "def course_details(cls, course_name):\n",
        "  print(\"course name is \",course_name)"
      ],
      "metadata": {
        "id": "Gn0ASxiPfHxT"
      },
      "execution_count": null,
      "outputs": []
    },
    {
      "cell_type": "code",
      "source": [
        "iitt3.course_details = classmethod(course_details)"
      ],
      "metadata": {
        "id": "hGK1-9KmfWUi"
      },
      "execution_count": null,
      "outputs": []
    },
    {
      "cell_type": "code",
      "source": [
        "iitt3.course_details(\"Transportation Engineering\")"
      ],
      "metadata": {
        "colab": {
          "base_uri": "https://localhost:8080/"
        },
        "id": "zKQxYhIyfeZT",
        "outputId": "83fa91b9-c178-4342-8bdd-515ae5e95147"
      },
      "execution_count": null,
      "outputs": [
        {
          "output_type": "stream",
          "name": "stdout",
          "text": [
            "course name is  Transportation Engineering\n"
          ]
        }
      ]
    },
    {
      "cell_type": "code",
      "source": [
        "def mentor(cls, list_of_mentor):\n",
        "  print(list_of_mentor)"
      ],
      "metadata": {
        "id": "alxGI4-jfpnT"
      },
      "execution_count": null,
      "outputs": []
    },
    {
      "cell_type": "code",
      "source": [
        "iitt3.mentor = classmethod(mentor)"
      ],
      "metadata": {
        "id": "bEV5JfQYf4rM"
      },
      "execution_count": null,
      "outputs": []
    },
    {
      "cell_type": "code",
      "source": [
        "iitt3.mentor([\"B Krishna Prapoorna\", \"Gowri A\"])"
      ],
      "metadata": {
        "colab": {
          "base_uri": "https://localhost:8080/"
        },
        "id": "ltgO1Au8f-qD",
        "outputId": "d77ec745-6e13-4e14-97be-ef522b5f4b25"
      },
      "execution_count": null,
      "outputs": [
        {
          "output_type": "stream",
          "name": "stdout",
          "text": [
            "['B Krishna Prapoorna', 'Gowri A']\n"
          ]
        }
      ]
    },
    {
      "cell_type": "code",
      "source": [
        "class iitt4:\n",
        "\n",
        "  mobile_num = 9518328339\n",
        "\n",
        "  def __init__(self, name, email):\n",
        "\n",
        "    self.name = name\n",
        "    self.email = email\n",
        "\n",
        "  @classmethod\n",
        "  def change_number(cls, mobile):\n",
        "    iitt2.mobile_num = mobile\n",
        "\n",
        "  @classmethod\n",
        "  def details(cls, name, email):\n",
        "    return cls(name, email)\n",
        "\n",
        "  def students_details(self):\n",
        "    print(self.name, self.email, iitt2.mobile_num)"
      ],
      "metadata": {
        "id": "gpepfikxgY6X"
      },
      "execution_count": null,
      "outputs": []
    },
    {
      "cell_type": "code",
      "source": [
        "# deactivate the function \"change_number\"\n",
        "del iitt4.change_number"
      ],
      "metadata": {
        "id": "9IlGOybBhS4P"
      },
      "execution_count": null,
      "outputs": []
    },
    {
      "cell_type": "code",
      "source": [
        "iitt4.change_number(877632484)"
      ],
      "metadata": {
        "colab": {
          "base_uri": "https://localhost:8080/",
          "height": 175
        },
        "id": "aX3G11VPhyu8",
        "outputId": "fbb93c8f-3339-4c6b-a012-4ee7648a8892"
      },
      "execution_count": null,
      "outputs": [
        {
          "output_type": "error",
          "ename": "AttributeError",
          "evalue": "ignored",
          "traceback": [
            "\u001b[0;31m---------------------------------------------------------------------------\u001b[0m",
            "\u001b[0;31mAttributeError\u001b[0m                            Traceback (most recent call last)",
            "\u001b[0;32m<ipython-input-40-0441a0173f86>\u001b[0m in \u001b[0;36m<cell line: 1>\u001b[0;34m()\u001b[0m\n\u001b[0;32m----> 1\u001b[0;31m \u001b[0miitt4\u001b[0m\u001b[0;34m.\u001b[0m\u001b[0mchange_number\u001b[0m\u001b[0;34m(\u001b[0m\u001b[0;36m877632484\u001b[0m\u001b[0;34m)\u001b[0m\u001b[0;34m\u001b[0m\u001b[0;34m\u001b[0m\u001b[0m\n\u001b[0m",
            "\u001b[0;31mAttributeError\u001b[0m: type object 'iitt4' has no attribute 'change_number'"
          ]
        }
      ]
    },
    {
      "cell_type": "code",
      "source": [],
      "metadata": {
        "id": "VEo1G5nOiXwk"
      },
      "execution_count": null,
      "outputs": []
    }
  ]
}