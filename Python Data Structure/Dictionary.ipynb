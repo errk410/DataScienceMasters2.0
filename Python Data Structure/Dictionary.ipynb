{
 "cells": [
  {
   "cell_type": "code",
   "execution_count": 1,
   "id": "8744cdd8-4a36-45c8-a7b6-c20ab4e73dbd",
   "metadata": {},
   "outputs": [],
   "source": [
    "d = {}"
   ]
  },
  {
   "cell_type": "code",
   "execution_count": 2,
   "id": "92370524-64c7-4c7b-bee5-712255ee7ca4",
   "metadata": {},
   "outputs": [
    {
     "data": {
      "text/plain": [
       "{}"
      ]
     },
     "execution_count": 2,
     "metadata": {},
     "output_type": "execute_result"
    }
   ],
   "source": [
    "d"
   ]
  },
  {
   "cell_type": "code",
   "execution_count": 3,
   "id": "1e43935f-66f4-4b75-8c2a-269aaa327f3c",
   "metadata": {},
   "outputs": [
    {
     "data": {
      "text/plain": [
       "dict"
      ]
     },
     "execution_count": 3,
     "metadata": {},
     "output_type": "execute_result"
    }
   ],
   "source": [
    "type(d)"
   ]
  },
  {
   "cell_type": "code",
   "execution_count": 4,
   "id": "3800dbee-b62b-47b7-8129-eff68f3f7456",
   "metadata": {},
   "outputs": [],
   "source": [
    "d1 = {'key' : \"value\"}  # key and value should be unique, there are some rules regd this"
   ]
  },
  {
   "cell_type": "code",
   "execution_count": 5,
   "id": "8385c4d5-cdc1-4d26-a580-c60173d76984",
   "metadata": {},
   "outputs": [
    {
     "data": {
      "text/plain": [
       "{'key': 'value'}"
      ]
     },
     "execution_count": 5,
     "metadata": {},
     "output_type": "execute_result"
    }
   ],
   "source": [
    "d1"
   ]
  },
  {
   "cell_type": "code",
   "execution_count": 9,
   "id": "33c4eaef-3b10-46e4-981c-a55fa5107f97",
   "metadata": {},
   "outputs": [],
   "source": [
    "d2 = {'name' : \"rk\", \"email\" : \"rk@gmail.com\", \"place\": \"rewa\", \"number\": 4918}"
   ]
  },
  {
   "cell_type": "code",
   "execution_count": 10,
   "id": "516c34fb-d286-4afd-88ff-eecece1b38bf",
   "metadata": {},
   "outputs": [
    {
     "data": {
      "text/plain": [
       "{'name': 'rk', 'email': 'rk@gmail.com', 'place': 'rewa', 'number': 4918}"
      ]
     },
     "execution_count": 10,
     "metadata": {},
     "output_type": "execute_result"
    }
   ],
   "source": [
    "d2"
   ]
  },
  {
   "cell_type": "code",
   "execution_count": null,
   "id": "1aba00a0-2edb-47b1-b60c-e496e8546a1d",
   "metadata": {},
   "outputs": [
    {
     "ename": "SyntaxError",
     "evalue": "invalid syntax (3464216736.py, line 1)",
     "output_type": "error",
     "traceback": [
      "\u001b[0;36m  Cell \u001b[0;32mIn[11], line 1\u001b[0;36m\u001b[0m\n\u001b[0;31m    d3 = {234: 'rk',@wer : 'sweety'}\u001b[0m\n\u001b[0m                    ^\u001b[0m\n\u001b[0;31mSyntaxError\u001b[0m\u001b[0;31m:\u001b[0m invalid syntax\n"
     ]
    }
   ],
   "source": [
    "d3 = {234: 'rk',@wer : 'sweety'}  # special char cant be used "
   ]
  },
  {
   "cell_type": "code",
   "execution_count": 14,
   "id": "4b929b76-2e32-478e-9ba3-6878a50d767e",
   "metadata": {},
   "outputs": [],
   "source": [
    "d3 = {234: 'rk','@wer' : 'sweety'}  # as a string we can use"
   ]
  },
  {
   "cell_type": "code",
   "execution_count": 15,
   "id": "e22eb888-b9df-4e43-8920-584c77184b75",
   "metadata": {},
   "outputs": [
    {
     "data": {
      "text/plain": [
       "{234: 'rk', '@wer': 'sweety'}"
      ]
     },
     "execution_count": 15,
     "metadata": {},
     "output_type": "execute_result"
    }
   ],
   "source": [
    "d3"
   ]
  },
  {
   "cell_type": "code",
   "execution_count": 16,
   "id": "c1ff0af4-5b26-4274-ba61-8d7c92d85840",
   "metadata": {},
   "outputs": [],
   "source": [
    "d4 = {234: 'rk','@wer' : 'sweety', True : 3754}  # boolean values are allowed"
   ]
  },
  {
   "cell_type": "code",
   "execution_count": 17,
   "id": "10c389cc-ce36-4e1e-b50c-a3a77198612c",
   "metadata": {},
   "outputs": [
    {
     "data": {
      "text/plain": [
       "{234: 'rk', '@wer': 'sweety', True: 3754}"
      ]
     },
     "execution_count": 17,
     "metadata": {},
     "output_type": "execute_result"
    }
   ],
   "source": [
    "d4"
   ]
  },
  {
   "cell_type": "markdown",
   "id": "abf0fc0a-23d8-4e6e-8689-4582af7aa1bb",
   "metadata": {},
   "source": [
    "insted of indexing, key is used here. If we want any value then we have to call the key. Ex- to know the meaning of a word we give that word "
   ]
  },
  {
   "cell_type": "code",
   "execution_count": 18,
   "id": "2db0bdf7-e067-497d-9588-7c4d022cec8e",
   "metadata": {},
   "outputs": [
    {
     "data": {
      "text/plain": [
       "3754"
      ]
     },
     "execution_count": 18,
     "metadata": {},
     "output_type": "execute_result"
    }
   ],
   "source": [
    "d4[True]"
   ]
  },
  {
   "cell_type": "code",
   "execution_count": 19,
   "id": "87189474-a826-48e3-9cdf-bcfbaada2f7c",
   "metadata": {},
   "outputs": [
    {
     "data": {
      "text/plain": [
       "'rk'"
      ]
     },
     "execution_count": 19,
     "metadata": {},
     "output_type": "execute_result"
    }
   ],
   "source": [
    "d4[234]"
   ]
  },
  {
   "cell_type": "code",
   "execution_count": 21,
   "id": "c2d516b5-2d5d-47ea-ba4d-a55c7e9fe697",
   "metadata": {},
   "outputs": [
    {
     "data": {
      "text/plain": [
       "3754"
      ]
     },
     "execution_count": 21,
     "metadata": {},
     "output_type": "execute_result"
    }
   ],
   "source": [
    "d4[1]  # python is understanding 1 as True"
   ]
  },
  {
   "cell_type": "code",
   "execution_count": 22,
   "id": "b2d48cfb-b5a1-4a56-ade9-de8b0b6ad329",
   "metadata": {},
   "outputs": [
    {
     "ename": "KeyError",
     "evalue": "0",
     "output_type": "error",
     "traceback": [
      "\u001b[0;31m---------------------------------------------------------------------------\u001b[0m",
      "\u001b[0;31mKeyError\u001b[0m                                  Traceback (most recent call last)",
      "Cell \u001b[0;32mIn[22], line 1\u001b[0m\n\u001b[0;32m----> 1\u001b[0m \u001b[43md4\u001b[49m\u001b[43m[\u001b[49m\u001b[38;5;241;43m0\u001b[39;49m\u001b[43m]\u001b[49m\n",
      "\u001b[0;31mKeyError\u001b[0m: 0"
     ]
    }
   ],
   "source": [
    "d4[0]"
   ]
  },
  {
   "cell_type": "code",
   "execution_count": 24,
   "id": "79ef7b87-7ff3-49af-b56f-8f40ad6e6bde",
   "metadata": {},
   "outputs": [],
   "source": [
    "d5 = {'name' : \"rk\", \"email\" : \"rk@gmail.com\", \"place\": \"rewa\", \"number\": 4918, 'name': 'sweety'}"
   ]
  },
  {
   "cell_type": "code",
   "execution_count": 26,
   "id": "08157d26-ea72-4505-94fd-0ac37205fb87",
   "metadata": {},
   "outputs": [
    {
     "data": {
      "text/plain": [
       "'sweety'"
      ]
     },
     "execution_count": 26,
     "metadata": {},
     "output_type": "execute_result"
    }
   ],
   "source": [
    "d5['name']  # dictionary will return last value if all are same"
   ]
  },
  {
   "cell_type": "code",
   "execution_count": 27,
   "id": "990d2c95-27b9-4a3a-8482-42b1eb0384a6",
   "metadata": {},
   "outputs": [],
   "source": [
    "d6 = {\"organization\" : \"IITT\", \"deptt\": ['CE','ME','CSE','EE','CH','ECE', 'HS'], \"faculties\": ['MTech','MSc', 'MPP','PhD', 'BTech']}"
   ]
  },
  {
   "cell_type": "code",
   "execution_count": 28,
   "id": "1b8b602a-0cbe-497c-abee-dfd07d1f00b2",
   "metadata": {},
   "outputs": [
    {
     "data": {
      "text/plain": [
       "{'organization': 'IITT',\n",
       " 'deptt': ['CE', 'ME', 'CSE', 'EE', 'CH', 'ECE', 'HS'],\n",
       " 'faculties': ['MTech', 'MSc', 'MPP', 'PhD', 'BTech']}"
      ]
     },
     "execution_count": 28,
     "metadata": {},
     "output_type": "execute_result"
    }
   ],
   "source": [
    "d6"
   ]
  },
  {
   "cell_type": "code",
   "execution_count": 29,
   "id": "63c69bec-c676-4050-ab34-2a386ad51066",
   "metadata": {},
   "outputs": [],
   "source": [
    "d6['guide'] = ['kp','gowri','venkat raman']"
   ]
  },
  {
   "cell_type": "code",
   "execution_count": 30,
   "id": "04a92eb7-cc19-4b50-8db0-3ceedf77058a",
   "metadata": {},
   "outputs": [
    {
     "data": {
      "text/plain": [
       "{'organization': 'IITT',\n",
       " 'deptt': ['CE', 'ME', 'CSE', 'EE', 'CH', 'ECE', 'HS'],\n",
       " 'faculties': ['MTech', 'MSc', 'MPP', 'PhD', 'BTech'],\n",
       " 'guide': ['kp', 'gowri', 'venkat raman']}"
      ]
     },
     "execution_count": 30,
     "metadata": {},
     "output_type": "execute_result"
    }
   ],
   "source": [
    "d6"
   ]
  },
  {
   "cell_type": "code",
   "execution_count": 32,
   "id": "4e5ba391-c963-43aa-8338-9a6dd46d45b5",
   "metadata": {},
   "outputs": [],
   "source": [
    "del d6['faculties']"
   ]
  },
  {
   "cell_type": "code",
   "execution_count": 33,
   "id": "c32fdd8a-1a18-4882-835e-0f0aab0053b5",
   "metadata": {},
   "outputs": [
    {
     "data": {
      "text/plain": [
       "{'organization': 'IITT',\n",
       " 'deptt': ['CE', 'ME', 'CSE', 'EE', 'CH', 'ECE', 'HS'],\n",
       " 'guide': ['kp', 'gowri', 'venkat raman']}"
      ]
     },
     "execution_count": 33,
     "metadata": {},
     "output_type": "execute_result"
    }
   ],
   "source": [
    "d6"
   ]
  },
  {
   "cell_type": "code",
   "execution_count": 37,
   "id": "1933d2f9-8446-42e2-81f8-89dc66ef512e",
   "metadata": {},
   "outputs": [
    {
     "data": {
      "text/plain": [
       "dict_keys(['organization', 'deptt', 'guide'])"
      ]
     },
     "execution_count": 37,
     "metadata": {},
     "output_type": "execute_result"
    }
   ],
   "source": [
    "d6.keys()"
   ]
  },
  {
   "cell_type": "code",
   "execution_count": 36,
   "id": "0e921a7c-61cc-4865-bb5c-f8ff1173d6c8",
   "metadata": {},
   "outputs": [
    {
     "data": {
      "text/plain": [
       "['organization', 'deptt', 'guide']"
      ]
     },
     "execution_count": 36,
     "metadata": {},
     "output_type": "execute_result"
    }
   ],
   "source": [
    "list(d6.keys())"
   ]
  },
  {
   "cell_type": "code",
   "execution_count": 38,
   "id": "dc12454b-094c-42a2-9735-5ab03b016b95",
   "metadata": {},
   "outputs": [
    {
     "data": {
      "text/plain": [
       "['CE', 'ME', 'CSE', 'EE', 'CH', 'ECE', 'HS']"
      ]
     },
     "execution_count": 38,
     "metadata": {},
     "output_type": "execute_result"
    }
   ],
   "source": [
    "d6.pop('deptt')"
   ]
  },
  {
   "cell_type": "code",
   "execution_count": 39,
   "id": "45052734-e452-4733-bac5-85437a323e83",
   "metadata": {},
   "outputs": [
    {
     "ename": "TypeError",
     "evalue": "pop expected at least 1 argument, got 0",
     "output_type": "error",
     "traceback": [
      "\u001b[0;31m---------------------------------------------------------------------------\u001b[0m",
      "\u001b[0;31mTypeError\u001b[0m                                 Traceback (most recent call last)",
      "Cell \u001b[0;32mIn[39], line 1\u001b[0m\n\u001b[0;32m----> 1\u001b[0m \u001b[43md6\u001b[49m\u001b[38;5;241;43m.\u001b[39;49m\u001b[43mpop\u001b[49m\u001b[43m(\u001b[49m\u001b[43m)\u001b[49m\n",
      "\u001b[0;31mTypeError\u001b[0m: pop expected at least 1 argument, got 0"
     ]
    }
   ],
   "source": [
    "d6.pop()"
   ]
  },
  {
   "cell_type": "markdown",
   "id": "f7bea6ce-13f3-4475-a382-9b5f3f4f3b54",
   "metadata": {},
   "source": [
    "Dictionary is mutable"
   ]
  },
  {
   "cell_type": "markdown",
   "id": "1e7267c9-30cd-415e-9e86-897cdea06ac9",
   "metadata": {},
   "source": [
    "Control Flow ==> Decision making statement(based on condition) ==> "
   ]
  },
  {
   "cell_type": "code",
   "execution_count": 7,
   "id": "bba7f9fa-2856-44ce-a3c5-7b8fcd6ba7d5",
   "metadata": {},
   "outputs": [
    {
     "name": "stdin",
     "output_type": "stream",
     "text": [
      "Enter your marks 50\n"
     ]
    },
    {
     "name": "stdout",
     "output_type": "stream",
     "text": [
      "you will be a part of A2 batch\n"
     ]
    }
   ],
   "source": [
    "# marks = 15\n",
    "\n",
    "marks = int(input(\"Enter your marks\"))  # prblm with input fn is that it converts inputs into string\n",
    "if marks >= 80 :\n",
    "    print(\"you will be a part of A0 batch\")\n",
    "elif marks >= 60 and marks < 80:\n",
    "    print(\"you will be a part of A1 batch\")\n",
    "elif marks >= 40 and marks < 60:\n",
    "    print(\"you will be a part of A2 batch\")\n",
    "else :\n",
    "    print(\"you will be a part of A3 batch\")"
   ]
  },
  {
   "cell_type": "code",
   "execution_count": 3,
   "id": "0f0f0e7d-17f1-478d-b697-8046c6ed3ef0",
   "metadata": {},
   "outputs": [
    {
     "data": {
      "text/plain": [
       "False"
      ]
     },
     "execution_count": 3,
     "metadata": {},
     "output_type": "execute_result"
    }
   ],
   "source": [
    "15>= 80"
   ]
  },
  {
   "cell_type": "code",
   "execution_count": 8,
   "id": "42bb6958-1a72-4fb7-ae35-fdec2be56673",
   "metadata": {},
   "outputs": [
    {
     "data": {
      "text/plain": [
       "int"
      ]
     },
     "execution_count": 8,
     "metadata": {},
     "output_type": "execute_result"
    }
   ],
   "source": [
    "type(marks)"
   ]
  },
  {
   "cell_type": "code",
   "execution_count": 10,
   "id": "1125fa61-f343-47d9-98a7-72f9ee4d6041",
   "metadata": {},
   "outputs": [
    {
     "name": "stdin",
     "output_type": "stream",
     "text": [
      "enter the price 2755\n"
     ]
    },
    {
     "name": "stdout",
     "output_type": "stream",
     "text": [
      "I will not purchase\n"
     ]
    }
   ],
   "source": [
    "price = int(input(\"enter the price\"))\n",
    "\n",
    "if price > 1000:\n",
    "    print(\"I will not purchase\")\n",
    "else:\n",
    "    (\"I will purchase\")    "
   ]
  },
  {
   "cell_type": "code",
   "execution_count": 14,
   "id": "fde374a1-942a-4096-b2ec-9b37d528891b",
   "metadata": {},
   "outputs": [
    {
     "name": "stdin",
     "output_type": "stream",
     "text": [
      "enter the price 1586\n"
     ]
    },
    {
     "name": "stdout",
     "output_type": "stream",
     "text": [
      "I will not purchase\n",
      "it's ok\n"
     ]
    }
   ],
   "source": [
    "price = int(input(\"enter the price\"))\n",
    "\n",
    "if price > 1000:\n",
    "    print(\"I will not purchase\")\n",
    "    if price > 5000:\n",
    "        print(\"this is too much\")\n",
    "    elif price < 2000:\n",
    "        print (\"it's ok\")\n",
    "elif price < 1000:\n",
    "    print (\"i will purchase\")\n",
    "else:\n",
    "    print (\"not interested\")"
   ]
  },
  {
   "cell_type": "code",
   "execution_count": 15,
   "id": "f4d1b0c3-6ae8-40ea-aa9e-09f353b16024",
   "metadata": {},
   "outputs": [],
   "source": [
    "l = [1,2,3,4,5,6,7,8]"
   ]
  },
  {
   "cell_type": "code",
   "execution_count": 16,
   "id": "f1bfb1b9-0fe6-487e-a030-ee93d18f9dcf",
   "metadata": {},
   "outputs": [
    {
     "data": {
      "text/plain": [
       "2"
      ]
     },
     "execution_count": 16,
     "metadata": {},
     "output_type": "execute_result"
    }
   ],
   "source": [
    "l[0] + 1"
   ]
  },
  {
   "cell_type": "code",
   "execution_count": 17,
   "id": "f31b9066-19d9-4923-ac94-0386f3007f81",
   "metadata": {},
   "outputs": [],
   "source": [
    "l1 = []"
   ]
  },
  {
   "cell_type": "code",
   "execution_count": 18,
   "id": "053dd222-d552-4a89-8a34-26d9f06f38c9",
   "metadata": {},
   "outputs": [],
   "source": [
    "l1.append(l[0] + 1)"
   ]
  },
  {
   "cell_type": "code",
   "execution_count": 19,
   "id": "1219a0be-12d4-46cd-bb5e-0b323c3932ec",
   "metadata": {},
   "outputs": [
    {
     "data": {
      "text/plain": [
       "[2]"
      ]
     },
     "execution_count": 19,
     "metadata": {},
     "output_type": "execute_result"
    }
   ],
   "source": [
    "l1"
   ]
  },
  {
   "cell_type": "code",
   "execution_count": 20,
   "id": "5d8d2dda-cc9d-4c0a-ba3b-65200a1a8353",
   "metadata": {},
   "outputs": [],
   "source": [
    "# to increase each value by 1, we will use concept of loop\n",
    "# FOR Loop\n"
   ]
  },
  {
   "cell_type": "code",
   "execution_count": 21,
   "id": "cadaa473-fdfa-4ff9-9169-511cdc50a808",
   "metadata": {},
   "outputs": [
    {
     "name": "stdout",
     "output_type": "stream",
     "text": [
      "1\n",
      "2\n",
      "3\n",
      "4\n",
      "5\n",
      "6\n",
      "7\n",
      "8\n"
     ]
    }
   ],
   "source": [
    "for i in l:\n",
    "    print(i)"
   ]
  },
  {
   "cell_type": "code",
   "execution_count": 27,
   "id": "193c589d-f39f-4b6e-8fde-9a75340030c7",
   "metadata": {},
   "outputs": [
    {
     "name": "stdout",
     "output_type": "stream",
     "text": [
      "2\n",
      "3\n",
      "4\n",
      "5\n",
      "6\n",
      "7\n",
      "8\n",
      "9\n"
     ]
    },
    {
     "data": {
      "text/plain": [
       "[3, 4, 5, 6, 7, 8, 9, 10]"
      ]
     },
     "execution_count": 27,
     "metadata": {},
     "output_type": "execute_result"
    }
   ],
   "source": [
    "l1 = []\n",
    "for i in l:\n",
    "    i = i +1\n",
    "    print(i)\n",
    "    l1.append(i+1)\n",
    "l1    "
   ]
  },
  {
   "cell_type": "code",
   "execution_count": 28,
   "id": "27c5dfa2-84a0-42bd-bb10-7a01fbd12908",
   "metadata": {},
   "outputs": [],
   "source": [
    "l = [\"sweety\", \"data scientict\", \"python\", \"ml\", \"data analyst\"]"
   ]
  },
  {
   "cell_type": "code",
   "execution_count": 31,
   "id": "d6dd4609-1421-44ff-b258-81278c628b6b",
   "metadata": {},
   "outputs": [
    {
     "name": "stdout",
     "output_type": "stream",
     "text": [
      "sweety\n",
      "data scientict\n",
      "python\n",
      "ml\n",
      "data analyst\n"
     ]
    }
   ],
   "source": [
    "l2 = []\n",
    "for i in l :\n",
    "    print(i)\n",
    "    l2.append(i.upper())"
   ]
  },
  {
   "cell_type": "code",
   "execution_count": 32,
   "id": "e293336c-c3a5-4012-b822-05da9b1bc97e",
   "metadata": {},
   "outputs": [
    {
     "data": {
      "text/plain": [
       "['SWEETY', 'DATA SCIENTICT', 'PYTHON', 'ML', 'DATA ANALYST']"
      ]
     },
     "execution_count": 32,
     "metadata": {},
     "output_type": "execute_result"
    }
   ],
   "source": [
    "l2"
   ]
  },
  {
   "cell_type": "code",
   "execution_count": 37,
   "id": "0a5b8142-d2c1-4d24-a5de-bf33878d77e2",
   "metadata": {},
   "outputs": [],
   "source": [
    "l2.append(i.lower())"
   ]
  },
  {
   "cell_type": "code",
   "execution_count": 38,
   "id": "f67faa78-ac7c-4873-80c7-582b3509c799",
   "metadata": {},
   "outputs": [
    {
     "data": {
      "text/plain": [
       "['SWEETY', 'DATA SCIENTICT', 'PYTHON', 'ML', 'DATA ANALYST', 'data analyst']"
      ]
     },
     "execution_count": 38,
     "metadata": {},
     "output_type": "execute_result"
    }
   ],
   "source": [
    "l2"
   ]
  },
  {
   "cell_type": "code",
   "execution_count": 39,
   "id": "664c642b-b72b-457d-ab52-cc2f09cbf119",
   "metadata": {},
   "outputs": [],
   "source": [
    "l = [1,2,3,4,8,'sweety', 'rk', 410, 212, \"sahili\", 'MTech', 'BA']"
   ]
  },
  {
   "cell_type": "code",
   "execution_count": 41,
   "id": "87a0c64c-a1eb-418c-b4b5-17b62e4612d8",
   "metadata": {},
   "outputs": [],
   "source": [
    "l1_num = []\n",
    "l2_str = []\n",
    "for i in l :\n",
    "    if type(i) == int or type(i) == float:\n",
    "        l1_num.append(i)\n",
    "    else :\n",
    "        l2_str.append(i)"
   ]
  },
  {
   "cell_type": "code",
   "execution_count": 42,
   "id": "f75d4587-9df5-474b-909b-6e4f048887fc",
   "metadata": {},
   "outputs": [
    {
     "data": {
      "text/plain": [
       "[1, 2, 3, 4, 8, 410, 212]"
      ]
     },
     "execution_count": 42,
     "metadata": {},
     "output_type": "execute_result"
    }
   ],
   "source": [
    "l1_num"
   ]
  },
  {
   "cell_type": "code",
   "execution_count": 43,
   "id": "43d4a0f5-1b4f-4b2a-b25f-3442faf75cc8",
   "metadata": {},
   "outputs": [
    {
     "data": {
      "text/plain": [
       "['sweety', 'rk', 'sahili', 'MTech', 'BA']"
      ]
     },
     "execution_count": 43,
     "metadata": {},
     "output_type": "execute_result"
    }
   ],
   "source": [
    "l2_str"
   ]
  },
  {
   "cell_type": "code",
   "execution_count": null,
   "id": "6c636c1a-61a5-4526-be10-2c712553889a",
   "metadata": {},
   "outputs": [],
   "source": []
  }
 ],
 "metadata": {
  "kernelspec": {
   "display_name": "Python 3 (ipykernel)",
   "language": "python",
   "name": "python3"
  },
  "language_info": {
   "codemirror_mode": {
    "name": "ipython",
    "version": 3
   },
   "file_extension": ".py",
   "mimetype": "text/x-python",
   "name": "python",
   "nbconvert_exporter": "python",
   "pygments_lexer": "ipython3",
   "version": "3.10.8"
  }
 },
 "nbformat": 4,
 "nbformat_minor": 5
}
