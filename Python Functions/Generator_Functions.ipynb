{
  "cells": [
    {
      "cell_type": "markdown",
      "id": "f7368118-6d12-45b1-bc2b-bb3bd6df9b5f",
      "metadata": {
        "id": "f7368118-6d12-45b1-bc2b-bb3bd6df9b5f"
      },
      "source": [
        "Generator Function : a generator function is a type of function that allows you to iterate over a potentially large sequence of items without having to create the entire sequence in memory at once.\n",
        "Instead of returning a single value, a generator function yields a series of values one at a time as you iterate over them.\n",
        "Used to reduce/optimize memory . it keeps generating output."
      ]
    },
    {
      "cell_type": "code",
      "execution_count": null,
      "id": "d259688f-ad38-4694-a6e9-d723f92ba3dd",
      "metadata": {
        "colab": {
          "base_uri": "https://localhost:8080/"
        },
        "id": "d259688f-ad38-4694-a6e9-d723f92ba3dd",
        "outputId": "880d27f5-ba64-4dc8-be0b-f1c81fe18541"
      },
      "outputs": [
        {
          "output_type": "execute_result",
          "data": {
            "text/plain": [
              "range(0, 10)"
            ]
          },
          "metadata": {},
          "execution_count": 1
        }
      ],
      "source": [
        "range(10)"
      ]
    },
    {
      "cell_type": "code",
      "execution_count": null,
      "id": "a0ab5fd8-d603-49c4-834f-e6020df0d913",
      "metadata": {
        "colab": {
          "base_uri": "https://localhost:8080/"
        },
        "id": "a0ab5fd8-d603-49c4-834f-e6020df0d913",
        "outputId": "3a9bffb9-af89-41db-8d62-701830ed45ca"
      },
      "outputs": [
        {
          "output_type": "stream",
          "name": "stdout",
          "text": [
            "0\n",
            "1\n",
            "2\n",
            "3\n",
            "4\n",
            "5\n",
            "6\n",
            "7\n",
            "8\n",
            "9\n"
          ]
        }
      ],
      "source": [
        "for i in range(10):\n",
        "    print(i)"
      ]
    },
    {
      "cell_type": "code",
      "execution_count": null,
      "id": "18f329a9-8cae-460e-8f28-a281016e1675",
      "metadata": {
        "id": "18f329a9-8cae-460e-8f28-a281016e1675"
      },
      "outputs": [],
      "source": [
        "def test_fib(n) :\n",
        "  a,b = 0,1\n",
        "  for i in range(n):\n",
        "    yield a\n",
        "    a,b = b, a+b"
      ]
    },
    {
      "cell_type": "code",
      "execution_count": null,
      "id": "a181f375-013f-4c3a-98ef-2b562026c718",
      "metadata": {
        "colab": {
          "base_uri": "https://localhost:8080/"
        },
        "id": "a181f375-013f-4c3a-98ef-2b562026c718",
        "outputId": "f5100f1e-1aa4-4c9c-abda-4c95ac68ca3f"
      },
      "outputs": [
        {
          "output_type": "stream",
          "name": "stdout",
          "text": [
            "0\n",
            "1\n",
            "1\n",
            "2\n",
            "3\n",
            "5\n",
            "8\n",
            "13\n",
            "21\n",
            "34\n",
            "55\n",
            "89\n",
            "144\n",
            "233\n",
            "377\n",
            "610\n",
            "987\n",
            "1597\n",
            "2584\n",
            "4181\n",
            "6765\n",
            "10946\n"
          ]
        }
      ],
      "source": [
        "for i in test_fib(22):\n",
        "  print(i)"
      ]
    },
    {
      "cell_type": "code",
      "source": [
        "def test_fib1() :\n",
        "  a,b = 0,1\n",
        "  while True:\n",
        "    yield a\n",
        "    a,b = b, a+b"
      ],
      "metadata": {
        "id": "x0lQKXwfUKdp"
      },
      "id": "x0lQKXwfUKdp",
      "execution_count": null,
      "outputs": []
    },
    {
      "cell_type": "code",
      "source": [
        "fib = test_fib1()"
      ],
      "metadata": {
        "id": "hVrwL73fVlWc"
      },
      "id": "hVrwL73fVlWc",
      "execution_count": null,
      "outputs": []
    },
    {
      "cell_type": "code",
      "source": [
        "type(fib)  # we can make generator function by using 'yield' keyword"
      ],
      "metadata": {
        "colab": {
          "base_uri": "https://localhost:8080/"
        },
        "id": "4k8KM4AhYsYc",
        "outputId": "809c618f-ac2f-4b2d-b966-1b4ee228fd4a"
      },
      "id": "4k8KM4AhYsYc",
      "execution_count": null,
      "outputs": [
        {
          "output_type": "execute_result",
          "data": {
            "text/plain": [
              "generator"
            ]
          },
          "metadata": {},
          "execution_count": 35
        }
      ]
    },
    {
      "cell_type": "code",
      "source": [
        "for i in range(10):\n",
        "  print(next(fib))"
      ],
      "metadata": {
        "colab": {
          "base_uri": "https://localhost:8080/"
        },
        "id": "VVDUp_gvV24d",
        "outputId": "c78966c2-f9ba-4de0-a22c-0744e758a241"
      },
      "id": "VVDUp_gvV24d",
      "execution_count": null,
      "outputs": [
        {
          "output_type": "stream",
          "name": "stdout",
          "text": [
            "0\n",
            "1\n",
            "1\n",
            "2\n",
            "3\n",
            "5\n",
            "8\n",
            "13\n",
            "21\n",
            "34\n"
          ]
        }
      ]
    },
    {
      "cell_type": "code",
      "source": [
        "for i in range(22):\n",
        "  print(next(fib))"
      ],
      "metadata": {
        "colab": {
          "base_uri": "https://localhost:8080/"
        },
        "id": "GROZ0chlWVBG",
        "outputId": "039a4a09-9e18-4ea4-c94d-47bfb250faeb"
      },
      "id": "GROZ0chlWVBG",
      "execution_count": null,
      "outputs": [
        {
          "output_type": "stream",
          "name": "stdout",
          "text": [
            "55\n",
            "89\n",
            "144\n",
            "233\n",
            "377\n",
            "610\n",
            "987\n",
            "1597\n",
            "2584\n",
            "4181\n",
            "6765\n",
            "10946\n",
            "17711\n",
            "28657\n",
            "46368\n",
            "75025\n",
            "121393\n",
            "196418\n",
            "317811\n",
            "514229\n",
            "832040\n",
            "1346269\n"
          ]
        }
      ]
    },
    {
      "cell_type": "code",
      "source": [
        "s = \"sweety\""
      ],
      "metadata": {
        "id": "9ARCJXRHWbcJ"
      },
      "id": "9ARCJXRHWbcJ",
      "execution_count": null,
      "outputs": []
    },
    {
      "cell_type": "code",
      "source": [
        "for i in s:\n",
        "  print(i)"
      ],
      "metadata": {
        "colab": {
          "base_uri": "https://localhost:8080/"
        },
        "id": "WNFJRgxDWwzN",
        "outputId": "2e61612f-95be-4a66-a8ef-8da934c7c9c2"
      },
      "id": "WNFJRgxDWwzN",
      "execution_count": null,
      "outputs": [
        {
          "output_type": "stream",
          "name": "stdout",
          "text": [
            "s\n",
            "w\n",
            "e\n",
            "e\n",
            "t\n",
            "y\n"
          ]
        }
      ]
    },
    {
      "cell_type": "code",
      "source": [
        "next(s)"
      ],
      "metadata": {
        "colab": {
          "base_uri": "https://localhost:8080/",
          "height": 175
        },
        "id": "ivAGCrsxW1Tm",
        "outputId": "4ffb5341-8ade-4fbc-dbb0-32fc39b62ada"
      },
      "id": "ivAGCrsxW1Tm",
      "execution_count": null,
      "outputs": [
        {
          "output_type": "error",
          "ename": "TypeError",
          "evalue": "ignored",
          "traceback": [
            "\u001b[0;31m---------------------------------------------------------------------------\u001b[0m",
            "\u001b[0;31mTypeError\u001b[0m                                 Traceback (most recent call last)",
            "\u001b[0;32m<ipython-input-22-61c30b5fe1d5>\u001b[0m in \u001b[0;36m<cell line: 1>\u001b[0;34m()\u001b[0m\n\u001b[0;32m----> 1\u001b[0;31m \u001b[0mnext\u001b[0m\u001b[0;34m(\u001b[0m\u001b[0ms\u001b[0m\u001b[0;34m)\u001b[0m\u001b[0;34m\u001b[0m\u001b[0;34m\u001b[0m\u001b[0m\n\u001b[0m",
            "\u001b[0;31mTypeError\u001b[0m: 'str' object is not an iterator"
          ]
        }
      ]
    },
    {
      "cell_type": "markdown",
      "source": [
        "String object is not iterator, but it is iterable. We can make it iterator using 'iter' function"
      ],
      "metadata": {
        "id": "aGYmu_nrXGt_"
      },
      "id": "aGYmu_nrXGt_"
    },
    {
      "cell_type": "code",
      "source": [
        "s1 = iter(s)"
      ],
      "metadata": {
        "id": "0H97LmjPW6xZ"
      },
      "id": "0H97LmjPW6xZ",
      "execution_count": null,
      "outputs": []
    },
    {
      "cell_type": "code",
      "source": [
        "type(s1)"
      ],
      "metadata": {
        "colab": {
          "base_uri": "https://localhost:8080/"
        },
        "id": "2SWoZDyYXcak",
        "outputId": "c4a921db-90c4-4fa9-e8f9-177be4fc30d3"
      },
      "id": "2SWoZDyYXcak",
      "execution_count": null,
      "outputs": [
        {
          "output_type": "execute_result",
          "data": {
            "text/plain": [
              "str_iterator"
            ]
          },
          "metadata": {},
          "execution_count": 25
        }
      ]
    },
    {
      "cell_type": "code",
      "source": [
        "next(s1)"
      ],
      "metadata": {
        "colab": {
          "base_uri": "https://localhost:8080/",
          "height": 35
        },
        "id": "5ZevAJKvXWSp",
        "outputId": "6531a168-0a62-4691-be3e-94bf20acfb8e"
      },
      "id": "5ZevAJKvXWSp",
      "execution_count": null,
      "outputs": [
        {
          "output_type": "execute_result",
          "data": {
            "text/plain": [
              "'w'"
            ],
            "application/vnd.google.colaboratory.intrinsic+json": {
              "type": "string"
            }
          },
          "metadata": {},
          "execution_count": 27
        }
      ]
    },
    {
      "cell_type": "code",
      "source": [
        "next(s1)"
      ],
      "metadata": {
        "colab": {
          "base_uri": "https://localhost:8080/",
          "height": 35
        },
        "id": "TmCBYquqXYb2",
        "outputId": "3eafc807-c171-417e-e7aa-ed7eafb8b70f"
      },
      "id": "TmCBYquqXYb2",
      "execution_count": null,
      "outputs": [
        {
          "output_type": "execute_result",
          "data": {
            "text/plain": [
              "'e'"
            ],
            "application/vnd.google.colaboratory.intrinsic+json": {
              "type": "string"
            }
          },
          "metadata": {},
          "execution_count": 28
        }
      ]
    },
    {
      "cell_type": "code",
      "source": [
        "next(s1)"
      ],
      "metadata": {
        "colab": {
          "base_uri": "https://localhost:8080/",
          "height": 35
        },
        "id": "GamGZdOAXh0U",
        "outputId": "b587e443-696b-48ae-9de8-2c1340ef8c97"
      },
      "id": "GamGZdOAXh0U",
      "execution_count": null,
      "outputs": [
        {
          "output_type": "execute_result",
          "data": {
            "text/plain": [
              "'e'"
            ],
            "application/vnd.google.colaboratory.intrinsic+json": {
              "type": "string"
            }
          },
          "metadata": {},
          "execution_count": 29
        }
      ]
    },
    {
      "cell_type": "code",
      "source": [
        "next(s1)"
      ],
      "metadata": {
        "colab": {
          "base_uri": "https://localhost:8080/",
          "height": 35
        },
        "id": "weLCUKeGXilR",
        "outputId": "2a3d218c-01b6-496b-978e-b38454677ea4"
      },
      "id": "weLCUKeGXilR",
      "execution_count": null,
      "outputs": [
        {
          "output_type": "execute_result",
          "data": {
            "text/plain": [
              "'t'"
            ],
            "application/vnd.google.colaboratory.intrinsic+json": {
              "type": "string"
            }
          },
          "metadata": {},
          "execution_count": 30
        }
      ]
    },
    {
      "cell_type": "code",
      "source": [
        "next(s1)\n"
      ],
      "metadata": {
        "colab": {
          "base_uri": "https://localhost:8080/",
          "height": 35
        },
        "id": "ieH1Ah4ZXjV4",
        "outputId": "b427b8cd-0ef3-4037-eb6b-20c16cdd5836"
      },
      "id": "ieH1Ah4ZXjV4",
      "execution_count": null,
      "outputs": [
        {
          "output_type": "execute_result",
          "data": {
            "text/plain": [
              "'y'"
            ],
            "application/vnd.google.colaboratory.intrinsic+json": {
              "type": "string"
            }
          },
          "metadata": {},
          "execution_count": 31
        }
      ]
    },
    {
      "cell_type": "code",
      "source": [
        "next(s1)\n"
      ],
      "metadata": {
        "colab": {
          "base_uri": "https://localhost:8080/",
          "height": 175
        },
        "id": "MgNGrpJDXj3o",
        "outputId": "c5bc5c03-f985-4006-a95a-1bee13b64ab5"
      },
      "id": "MgNGrpJDXj3o",
      "execution_count": null,
      "outputs": [
        {
          "output_type": "error",
          "ename": "StopIteration",
          "evalue": "ignored",
          "traceback": [
            "\u001b[0;31m---------------------------------------------------------------------------\u001b[0m",
            "\u001b[0;31mStopIteration\u001b[0m                             Traceback (most recent call last)",
            "\u001b[0;32m<ipython-input-32-ac0bd3bce131>\u001b[0m in \u001b[0;36m<cell line: 1>\u001b[0;34m()\u001b[0m\n\u001b[0;32m----> 1\u001b[0;31m \u001b[0mnext\u001b[0m\u001b[0;34m(\u001b[0m\u001b[0ms1\u001b[0m\u001b[0;34m)\u001b[0m\u001b[0;34m\u001b[0m\u001b[0;34m\u001b[0m\u001b[0m\n\u001b[0m",
            "\u001b[0;31mStopIteration\u001b[0m: "
          ]
        }
      ]
    },
    {
      "cell_type": "code",
      "source": [
        "next(45)"
      ],
      "metadata": {
        "colab": {
          "base_uri": "https://localhost:8080/",
          "height": 175
        },
        "id": "ysV5tCxZXkgV",
        "outputId": "226d0912-ed82-4d3c-ebbc-c799925fd8a4"
      },
      "id": "ysV5tCxZXkgV",
      "execution_count": null,
      "outputs": [
        {
          "output_type": "error",
          "ename": "TypeError",
          "evalue": "ignored",
          "traceback": [
            "\u001b[0;31m---------------------------------------------------------------------------\u001b[0m",
            "\u001b[0;31mTypeError\u001b[0m                                 Traceback (most recent call last)",
            "\u001b[0;32m<ipython-input-33-474cc0349a7a>\u001b[0m in \u001b[0;36m<cell line: 1>\u001b[0;34m()\u001b[0m\n\u001b[0;32m----> 1\u001b[0;31m \u001b[0mnext\u001b[0m\u001b[0;34m(\u001b[0m\u001b[0;36m45\u001b[0m\u001b[0;34m)\u001b[0m\u001b[0;34m\u001b[0m\u001b[0;34m\u001b[0m\u001b[0m\n\u001b[0m",
            "\u001b[0;31mTypeError\u001b[0m: 'int' object is not an iterator"
          ]
        }
      ]
    },
    {
      "cell_type": "code",
      "source": [
        "iter(45)"
      ],
      "metadata": {
        "colab": {
          "base_uri": "https://localhost:8080/",
          "height": 175
        },
        "id": "HmbRh4cLXxSk",
        "outputId": "fb65ab34-15ee-49e7-dc3f-f3cdd92ddec1"
      },
      "id": "HmbRh4cLXxSk",
      "execution_count": null,
      "outputs": [
        {
          "output_type": "error",
          "ename": "TypeError",
          "evalue": "ignored",
          "traceback": [
            "\u001b[0;31m---------------------------------------------------------------------------\u001b[0m",
            "\u001b[0;31mTypeError\u001b[0m                                 Traceback (most recent call last)",
            "\u001b[0;32m<ipython-input-34-e50867f8c07e>\u001b[0m in \u001b[0;36m<cell line: 1>\u001b[0;34m()\u001b[0m\n\u001b[0;32m----> 1\u001b[0;31m \u001b[0miter\u001b[0m\u001b[0;34m(\u001b[0m\u001b[0;36m45\u001b[0m\u001b[0;34m)\u001b[0m\u001b[0;34m\u001b[0m\u001b[0;34m\u001b[0m\u001b[0m\n\u001b[0m",
            "\u001b[0;31mTypeError\u001b[0m: 'int' object is not iterable"
          ]
        }
      ]
    },
    {
      "cell_type": "markdown",
      "source": [
        "# **Note:** *Integers and floats are not iterable (means we can't use loop there) So we can't convert it into iterator by using iter function.*"
      ],
      "metadata": {
        "id": "lHY-AVrTX0iH"
      },
      "id": "lHY-AVrTX0iH"
    },
    {
      "cell_type": "code",
      "source": [
        "def count_test(n):\n",
        "  count = 1          # start from 1 and go till n then yield\n",
        "  while count <n :\n",
        "    yield count\n",
        "    count = count +1\n"
      ],
      "metadata": {
        "id": "eQ98STj5Xy5z"
      },
      "id": "eQ98STj5Xy5z",
      "execution_count": null,
      "outputs": []
    },
    {
      "cell_type": "code",
      "source": [
        "c = count_test(5)"
      ],
      "metadata": {
        "id": "QlVb4HvSZguF"
      },
      "id": "QlVb4HvSZguF",
      "execution_count": null,
      "outputs": []
    },
    {
      "cell_type": "code",
      "source": [
        "for i in c :\n",
        "  print(i)"
      ],
      "metadata": {
        "colab": {
          "base_uri": "https://localhost:8080/"
        },
        "id": "rfRGqE7CZlbo",
        "outputId": "8f638565-b755-4482-e9bb-3c1d890ed699"
      },
      "id": "rfRGqE7CZlbo",
      "execution_count": null,
      "outputs": [
        {
          "output_type": "stream",
          "name": "stdout",
          "text": [
            "1\n",
            "2\n",
            "3\n",
            "4\n"
          ]
        }
      ]
    },
    {
      "cell_type": "code",
      "source": [
        "type(c)"
      ],
      "metadata": {
        "colab": {
          "base_uri": "https://localhost:8080/"
        },
        "id": "P-yifRSEZs3O",
        "outputId": "be13e9b8-2c3c-42bd-a243-888b9507e635"
      },
      "id": "P-yifRSEZs3O",
      "execution_count": null,
      "outputs": [
        {
          "output_type": "execute_result",
          "data": {
            "text/plain": [
              "generator"
            ]
          },
          "metadata": {},
          "execution_count": 40
        }
      ]
    },
    {
      "cell_type": "code",
      "source": [],
      "metadata": {
        "id": "c_q-rrg7Z297"
      },
      "id": "c_q-rrg7Z297",
      "execution_count": null,
      "outputs": []
    }
  ],
  "metadata": {
    "kernelspec": {
      "display_name": "Python 3 (ipykernel)",
      "language": "python",
      "name": "python3"
    },
    "language_info": {
      "codemirror_mode": {
        "name": "ipython",
        "version": 3
      },
      "file_extension": ".py",
      "mimetype": "text/x-python",
      "name": "python",
      "nbconvert_exporter": "python",
      "pygments_lexer": "ipython3",
      "version": "3.10.8"
    },
    "colab": {
      "provenance": []
    }
  },
  "nbformat": 4,
  "nbformat_minor": 5
}