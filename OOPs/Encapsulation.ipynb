{
  "nbformat": 4,
  "nbformat_minor": 0,
  "metadata": {
    "colab": {
      "provenance": []
    },
    "kernelspec": {
      "name": "python3",
      "display_name": "Python 3"
    },
    "language_info": {
      "name": "python"
    }
  },
  "cells": [
    {
      "cell_type": "markdown",
      "source": [
        "**Encapsulation** in Python is like putting data (variables) and the methods (functions) that operate on that data inside a \"capsule\" (a class). It means that you bundle together data and the functions that work with that data in a single unit (a class), and **you can control access to that data to ensure it's used safely.** It's like a container that protects the data from outside interference and only allows certain operations on it through defined methods.\n"
      ],
      "metadata": {
        "id": "aNo_n_PmYgO4"
      }
    },
    {
      "cell_type": "code",
      "execution_count": null,
      "metadata": {
        "id": "1ct9yYj9YZZL"
      },
      "outputs": [],
      "source": [
        "class test :\n",
        "\n",
        "  def __init__(self, a, b):\n",
        "    self.a = a\n",
        "    self.b = b"
      ]
    },
    {
      "cell_type": "code",
      "source": [
        "t = test(410, 212)"
      ],
      "metadata": {
        "id": "0WvAXltFaLVG"
      },
      "execution_count": null,
      "outputs": []
    },
    {
      "cell_type": "code",
      "source": [
        "class car :\n",
        "  def __init__(self, year, make, model, speed) :\n",
        "\n",
        "\n",
        "    self.__year = year\n",
        "    self.__make = make\n",
        "    self.__model = model\n",
        "    self.__speed = 0\n",
        "\n",
        "  def set_speed(self, speed):\n",
        "    self.__speed = 0 if speed <0 else speed\n",
        "\n",
        "  def get_speed(self):\n",
        "   return self.__speed"
      ],
      "metadata": {
        "id": "fK191IPrapvt"
      },
      "execution_count": null,
      "outputs": []
    },
    {
      "cell_type": "code",
      "source": [
        "c = car(2021, \"tayota\", \"innova\", 16)"
      ],
      "metadata": {
        "id": "8hl60QREbHa4"
      },
      "execution_count": null,
      "outputs": []
    },
    {
      "cell_type": "code",
      "source": [
        "c.year"
      ],
      "metadata": {
        "colab": {
          "base_uri": "https://localhost:8080/",
          "height": 175
        },
        "id": "Swl4tLz7bW5K",
        "outputId": "20f22703-c5b0-4b53-f168-c5abf1d521f1"
      },
      "execution_count": null,
      "outputs": [
        {
          "output_type": "error",
          "ename": "AttributeError",
          "evalue": "ignored",
          "traceback": [
            "\u001b[0;31m---------------------------------------------------------------------------\u001b[0m",
            "\u001b[0;31mAttributeError\u001b[0m                            Traceback (most recent call last)",
            "\u001b[0;32m<ipython-input-30-03945b7a36ec>\u001b[0m in \u001b[0;36m<cell line: 1>\u001b[0;34m()\u001b[0m\n\u001b[0;32m----> 1\u001b[0;31m \u001b[0mc\u001b[0m\u001b[0;34m.\u001b[0m\u001b[0myear\u001b[0m\u001b[0;34m\u001b[0m\u001b[0;34m\u001b[0m\u001b[0m\n\u001b[0m",
            "\u001b[0;31mAttributeError\u001b[0m: 'car' object has no attribute 'year'"
          ]
        }
      ]
    },
    {
      "cell_type": "code",
      "source": [
        "c._car__year"
      ],
      "metadata": {
        "colab": {
          "base_uri": "https://localhost:8080/"
        },
        "id": "yY9v-n-4cADA",
        "outputId": "864bdc7d-1300-4e9f-e6a6-d76125d34470"
      },
      "execution_count": null,
      "outputs": [
        {
          "output_type": "execute_result",
          "data": {
            "text/plain": [
              "2021"
            ]
          },
          "metadata": {},
          "execution_count": 31
        }
      ]
    },
    {
      "cell_type": "code",
      "source": [
        "c._car__model"
      ],
      "metadata": {
        "colab": {
          "base_uri": "https://localhost:8080/",
          "height": 35
        },
        "id": "DMl3tOOwcE-A",
        "outputId": "5c062005-685c-45f7-d249-f86ca9b10d96"
      },
      "execution_count": null,
      "outputs": [
        {
          "output_type": "execute_result",
          "data": {
            "text/plain": [
              "'innova'"
            ],
            "application/vnd.google.colaboratory.intrinsic+json": {
              "type": "string"
            }
          },
          "metadata": {},
          "execution_count": 32
        }
      ]
    },
    {
      "cell_type": "code",
      "source": [
        "c.set_speed(-37)"
      ],
      "metadata": {
        "id": "pZSRS8nlc0OV"
      },
      "execution_count": null,
      "outputs": []
    },
    {
      "cell_type": "code",
      "source": [
        "c.get_speed()"
      ],
      "metadata": {
        "colab": {
          "base_uri": "https://localhost:8080/"
        },
        "id": "FYL4iNXNdVo-",
        "outputId": "e106abf7-8cba-402b-97c0-528fb2269642"
      },
      "execution_count": null,
      "outputs": [
        {
          "output_type": "execute_result",
          "data": {
            "text/plain": [
              "0"
            ]
          },
          "metadata": {},
          "execution_count": 34
        }
      ]
    },
    {
      "cell_type": "code",
      "source": [
        "c.set_speed(37)\n"
      ],
      "metadata": {
        "id": "2uMIM0e_eEes"
      },
      "execution_count": null,
      "outputs": []
    },
    {
      "cell_type": "code",
      "source": [
        "c.get_speed()"
      ],
      "metadata": {
        "colab": {
          "base_uri": "https://localhost:8080/"
        },
        "id": "ozO3ZQWneI5k",
        "outputId": "c76027cd-3fe0-4e10-d66f-1b5986fe5970"
      },
      "execution_count": null,
      "outputs": [
        {
          "output_type": "execute_result",
          "data": {
            "text/plain": [
              "37"
            ]
          },
          "metadata": {},
          "execution_count": 36
        }
      ]
    },
    {
      "cell_type": "code",
      "source": [
        "class bank_account:\n",
        "\n",
        "    def __init__(self, balance):\n",
        "        self.__balance = balance\n",
        "\n",
        "    def deposit(self, amount):\n",
        "        self.__balance = self.__balance + amount\n",
        "\n",
        "    def withdraw(self, amount) :\n",
        "        if self.__balance >= amount:\n",
        "            self.__balance = self.__balance - amount\n",
        "            return True\n",
        "        else:\n",
        "           return False\n",
        "\n",
        "    def get_balance(self):\n",
        "        return self.__balance"
      ],
      "metadata": {
        "id": "7X_bzyXdeM_o"
      },
      "execution_count": null,
      "outputs": []
    },
    {
      "cell_type": "code",
      "source": [
        "rk = bank_account(1000)"
      ],
      "metadata": {
        "id": "CLGo18GGfQb7"
      },
      "execution_count": null,
      "outputs": []
    },
    {
      "cell_type": "code",
      "source": [
        "rk.get__balance()"
      ],
      "metadata": {
        "colab": {
          "base_uri": "https://localhost:8080/",
          "height": 175
        },
        "id": "b8bvHMh7fkR7",
        "outputId": "89e0c1a6-fab2-4906-e497-565446ce61e3"
      },
      "execution_count": null,
      "outputs": [
        {
          "output_type": "error",
          "ename": "AttributeError",
          "evalue": "ignored",
          "traceback": [
            "\u001b[0;31m---------------------------------------------------------------------------\u001b[0m",
            "\u001b[0;31mAttributeError\u001b[0m                            Traceback (most recent call last)",
            "\u001b[0;32m<ipython-input-58-fc1e88d95073>\u001b[0m in \u001b[0;36m<cell line: 1>\u001b[0;34m()\u001b[0m\n\u001b[0;32m----> 1\u001b[0;31m \u001b[0mrk\u001b[0m\u001b[0;34m.\u001b[0m\u001b[0mget__balance\u001b[0m\u001b[0;34m(\u001b[0m\u001b[0;34m)\u001b[0m\u001b[0;34m\u001b[0m\u001b[0;34m\u001b[0m\u001b[0m\n\u001b[0m",
            "\u001b[0;31mAttributeError\u001b[0m: 'bank_account' object has no attribute 'get__balance'"
          ]
        }
      ]
    },
    {
      "cell_type": "code",
      "source": [
        "class erp_account :\n",
        "  def __init__(self, name, role_number, email_id, program, department):\n",
        "    self.__name = name\n",
        "    self.__role_number = role_number\n",
        "    self.__email_id = email_id\n",
        "    self.__program = program\n",
        "    self.__department = department\n",
        "\n",
        "  # def set_role_number(self, role_number) :\n"
      ],
      "metadata": {
        "id": "szUUa5ULfmyf"
      },
      "execution_count": null,
      "outputs": []
    },
    {
      "cell_type": "code",
      "source": [
        "rk = erp_account()"
      ],
      "metadata": {
        "colab": {
          "base_uri": "https://localhost:8080/",
          "height": 193
        },
        "id": "nMEwdX-uo9pJ",
        "outputId": "ad6885bc-27a4-4248-9ceb-b0b8a0a71549"
      },
      "execution_count": null,
      "outputs": [
        {
          "output_type": "error",
          "ename": "TypeError",
          "evalue": "ignored",
          "traceback": [
            "\u001b[0;31m---------------------------------------------------------------------------\u001b[0m",
            "\u001b[0;31mTypeError\u001b[0m                                 Traceback (most recent call last)",
            "\u001b[0;32m<ipython-input-60-330239feb18e>\u001b[0m in \u001b[0;36m<cell line: 1>\u001b[0;34m()\u001b[0m\n\u001b[0;32m----> 1\u001b[0;31m \u001b[0mrk\u001b[0m \u001b[0;34m=\u001b[0m \u001b[0merp_account\u001b[0m\u001b[0;34m(\u001b[0m\u001b[0;34m)\u001b[0m\u001b[0;34m\u001b[0m\u001b[0;34m\u001b[0m\u001b[0m\n\u001b[0m",
            "\u001b[0;31mTypeError\u001b[0m: erp_account.__init__() missing 5 required positional arguments: 'name', 'role_number', 'email_id', 'program', and 'department'"
          ]
        }
      ]
    },
    {
      "cell_type": "code",
      "source": [
        "rk = erp_account(\"ramkali\", \"ce22m407\", \"ce22m407@iittp.ac.in\", \"MTech\", \"civil\")\n"
      ],
      "metadata": {
        "id": "JVzADSccpCCu"
      },
      "execution_count": null,
      "outputs": []
    },
    {
      "cell_type": "code",
      "source": [
        "rk._erp_account__name"
      ],
      "metadata": {
        "colab": {
          "base_uri": "https://localhost:8080/",
          "height": 35
        },
        "id": "jplbYVbnpYQz",
        "outputId": "5a296183-a4ba-490e-8a00-13c85a9a5661"
      },
      "execution_count": null,
      "outputs": [
        {
          "output_type": "execute_result",
          "data": {
            "text/plain": [
              "'ramkali'"
            ],
            "application/vnd.google.colaboratory.intrinsic+json": {
              "type": "string"
            }
          },
          "metadata": {},
          "execution_count": 63
        }
      ]
    },
    {
      "cell_type": "code",
      "source": [],
      "metadata": {
        "id": "21v8XClopaq4"
      },
      "execution_count": null,
      "outputs": []
    }
  ]
}